{
 "cells": [
  {
   "cell_type": "markdown",
   "id": "2f6a8a31",
   "metadata": {},
   "source": [
    "## PDF and Elements Setting"
   ]
  },
  {
   "cell_type": "code",
   "execution_count": 1,
   "id": "c543abd1",
   "metadata": {},
   "outputs": [],
   "source": [
    "from unstructured.partition.pdf import partition_pdf\n",
    "\n",
    "\n",
    "def extract_pdf_elements(filepath):\n",
    "    return partition_pdf(\n",
    "        filename=filepath,\n",
    "        strategy=\"fast\", \n",
    "        extract_images_in_pdf=False,\n",
    "        infer_table_structure=False,\n",
    "        chunking_strategy=\"by_title\",\n",
    "        max_characters=4000,\n",
    "        new_after_n_chars=3800,\n",
    "        combine_text_under_n_chars=2000,\n",
    "    )"
   ]
  },
  {
   "cell_type": "code",
   "execution_count": 2,
   "id": "95903318",
   "metadata": {},
   "outputs": [],
   "source": [
    "import os\n",
    "\n",
    "pdf_dir = \"RRC\"\n",
    "adnd_pdf_files = [\n",
    "    os.path.join(pdf_dir, f)\n",
    "    for f in os.listdir(pdf_dir)\n",
    "    if f.endswith(\".pdf\")\n",
    "]"
   ]
  },
  {
   "cell_type": "code",
   "execution_count": 3,
   "id": "f22e474c",
   "metadata": {},
   "outputs": [
    {
     "name": "stdout",
     "output_type": "stream",
     "text": [
      "Saved: ADD_Print_Friendly_elements\n",
      "Saved: ADMASSI_Print_Friendly_elements\n",
      "Saved: ADVMANU_Print_Friendly_elements\n",
      "Saved: AEROMANU_Print_Friendly_elements\n",
      "Saved: AIRMANUEN_Print_Friendly_elements\n",
      "Saved: ANIMI_Print_Friendly_elements\n",
      "Saved: APPACC_Print_Friendly_elements\n",
      "Saved: BUSADM_Print_Friendly_elements\n",
      "Saved: COMMDES_Print_Friendly_elements\n",
      "Saved: CREATCOM_Print_Friendly_elements\n",
      "Saved: CULIA_Print_Friendly_elements\n",
      "Saved: CYBER_Print_Friendly_elements\n",
      "Saved: DFMP_Print_Friendly_elements\n",
      "Saved: DMDDD_Print_Friendly_elements\n",
      "Saved: DMDMG_Print_Friendly_elements\n",
      "Saved: DMD_Print_Friendly_elements\n",
      "Saved: DSML_Print_Friendly_elements\n",
      "Saved: ECEW_Print_Friendly_elements\n",
      "Saved: EET_Print_Friendly_elements\n",
      "Saved: ENTPRO_Print_Friendly_elements\n",
      "Saved: FULLSTACK_Print_Friendly_elements\n",
      "Saved: GAMEDEVA_Print_Friendly_elements\n",
      "Saved: GAMEDEVP_Print_Friendly_elements\n",
      "Saved: GP_Print_Friendly_elements\n",
      "Saved: HOSTM_Print_Friendly_elements\n",
      "Saved: INFOSEC_Print_Friendly_elements\n",
      "Saved: INTROEET_Print_Friendly_elements\n",
      "Saved: ITOPS_Print_Friendly_elements\n",
      "Saved: NETSYS_Print_Friendly_elements\n",
      "Saved: PAITP_Print_Friendly_elements\n",
      "Saved: PROBP_Print_Friendly_elements\n",
      "Saved: PROSSMAR_Print_Friendly_elements\n"
     ]
    },
    {
     "name": "stderr",
     "output_type": "stream",
     "text": [
      "Cannot set gray non-stroke color because /'P0' is an invalid float value\n",
      "Cannot set gray non-stroke color because /'P1' is an invalid float value\n",
      "Cannot set gray non-stroke color because /'P0' is an invalid float value\n",
      "Cannot set gray non-stroke color because /'P0' is an invalid float value\n",
      "Cannot set gray non-stroke color because /'P1' is an invalid float value\n",
      "Cannot set gray non-stroke color because /'P2' is an invalid float value\n",
      "Cannot set gray non-stroke color because /'P3' is an invalid float value\n",
      "Cannot set gray non-stroke color because /'P4' is an invalid float value\n",
      "Cannot set gray stroke color because /'P5' is an invalid float value\n",
      "Cannot set gray stroke color because /'P6' is an invalid float value\n"
     ]
    },
    {
     "name": "stdout",
     "output_type": "stream",
     "text": [
      "Saved: rrc-viewbook-v1qros_Print_Friendly_elements\n",
      "Saved: SOCICDEV_Print_Friendly_elements\n"
     ]
    }
   ],
   "source": [
    "import os\n",
    "\n",
    "for filepath in adnd_pdf_files:\n",
    "    if os.path.exists(filepath):\n",
    "        try:\n",
    "            elements = extract_pdf_elements(filepath)\n",
    "            var_name = os.path.basename(filepath).replace(\".pdf\", \"_elements\")\n",
    "            globals()[var_name] = elements\n",
    "            print(f\"Saved: {var_name}\")\n",
    "        except Exception as e:\n",
    "            print(f\"Error: {filepath}: {e}\")\n",
    "    else:\n",
    "        print(f\"Not Found: {filepath}\")"
   ]
  },
  {
   "cell_type": "code",
   "execution_count": 4,
   "id": "c268270c",
   "metadata": {},
   "outputs": [
    {
     "name": "stdout",
     "output_type": "stream",
     "text": [
      "ADD_Print_Friendly_elements: 14 elements\n",
      "ADMASSI_Print_Friendly_elements: 9 elements\n",
      "ADVMANU_Print_Friendly_elements: 9 elements\n",
      "AEROMANU_Print_Friendly_elements: 7 elements\n",
      "AIRMANUEN_Print_Friendly_elements: 10 elements\n",
      "ANIMI_Print_Friendly_elements: 12 elements\n",
      "APPACC_Print_Friendly_elements: 9 elements\n",
      "BUSADM_Print_Friendly_elements: 9 elements\n",
      "COMMDES_Print_Friendly_elements: 9 elements\n",
      "CREATCOM_Print_Friendly_elements: 20 elements\n",
      "CULIA_Print_Friendly_elements: 14 elements\n",
      "CYBER_Print_Friendly_elements: 11 elements\n",
      "DFMP_Print_Friendly_elements: 9 elements\n",
      "DMDDD_Print_Friendly_elements: 8 elements\n",
      "DMDMG_Print_Friendly_elements: 7 elements\n",
      "DMD_Print_Friendly_elements: 28 elements\n",
      "DSML_Print_Friendly_elements: 12 elements\n",
      "ECEW_Print_Friendly_elements: 16 elements\n",
      "EET_Print_Friendly_elements: 10 elements\n",
      "ENTPRO_Print_Friendly_elements: 2 elements\n",
      "FULLSTACK_Print_Friendly_elements: 10 elements\n",
      "GAMEDEVA_Print_Friendly_elements: 12 elements\n",
      "GAMEDEVP_Print_Friendly_elements: 12 elements\n",
      "GP_Print_Friendly_elements: 15 elements\n",
      "HOSTM_Print_Friendly_elements: 11 elements\n",
      "INFOSEC_Print_Friendly_elements: 10 elements\n",
      "INTROEET_Print_Friendly_elements: 25 elements\n",
      "ITOPS_Print_Friendly_elements: 11 elements\n",
      "NETSYS_Print_Friendly_elements: 8 elements\n",
      "PAITP_Print_Friendly_elements: 6 elements\n",
      "PROBP_Print_Friendly_elements: 11 elements\n",
      "PROSSMAR_Print_Friendly_elements: 9 elements\n",
      "rrc-viewbook-v1qros_Print_Friendly_elements: 37 elements\n",
      "SOCICDEV_Print_Friendly_elements: 17 elements\n"
     ]
    }
   ],
   "source": [
    "elements_vars = [var for var in globals() if var.endswith(\"_Print_Friendly_elements\")]\n",
    "\n",
    "for var_name in elements_vars:\n",
    "    elements = globals()[var_name]\n",
    "    print(f\"{var_name}: {len(elements)} elements\")"
   ]
  },
  {
   "cell_type": "code",
   "execution_count": 6,
   "id": "2c8e328d",
   "metadata": {},
   "outputs": [
    {
     "name": "stdout",
     "output_type": "stream",
     "text": [
      "14 ADD elements\n",
      "9 ADMASSI elements\n",
      "9 ADVMANU elements\n",
      "7 AEROMANU elements\n",
      "10 AIRMANUEN elements\n",
      "12 ANIMI elements\n",
      "9 APPACC elements\n",
      "9 BUSADM elements\n",
      "9 COMMDES elements\n",
      "20 CREATCOM elements\n",
      "14 CULIA elements\n",
      "11 CYBER elements\n",
      "9 DFMP elements\n",
      "28 DMD elements\n",
      "8 DMDDD elements\n",
      "7 DMDMG elements\n",
      "12 DSML elements\n",
      "16 ECEW elements\n",
      "10 EET elements\n",
      "2 ENTPRO elements\n",
      "10 FULLSTACK elements\n",
      "12 GAMEDEVA elements\n",
      "12 GAMEDEVP elements\n",
      "15 GP elements\n",
      "11 HOSTM elements\n",
      "10 INFOSEC elements\n",
      "25 INTROEET elements\n",
      "11 ITOPS elements\n",
      "8 NETSYS elements\n",
      "6 PAITP elements\n",
      "11 PROBP elements\n",
      "9 PROSSMAR elements\n",
      "17 SOCICDEV elements\n"
     ]
    }
   ],
   "source": [
    "program_keys = [\n",
    "    \"ADD\", \"ADMASSI\", \"ADVMANU\", \"AEROMANU\", \"AIRMANUEN\", \"ANIMI\", \"APPACC\", \"BUSADM\",\n",
    "    \"COMMDES\", \"CREATCOM\", \"CULIA\", \"CYBER\", \"DFMP\", \"DMD\", \"DMDDD\", \"DMDMG\", \"DSML\",\n",
    "    \"ECEW\", \"EET\", \"ENTPRO\", \"FULLSTACK\", \"GAMEDEVA\", \"GAMEDEVP\", \"GP\", \"HOSTM\", \"INFOSEC\",\n",
    "    \"INTROEET\", \"ITOPS\", \"NETSYS\", \"PAITP\", \"PROBP\", \"PROSSMAR\", \"SOCICDEV\"\n",
    "]\n",
    "\n",
    "for key in program_keys:\n",
    "    var_name = f\"{key}_Print_Friendly_elements\"\n",
    "    var = globals().get(var_name)\n",
    "    if var is not None:\n",
    "        print(len(var), f\"{key} elements\")\n",
    "    else:\n",
    "        print(f\"{key} not found\")"
   ]
  },
  {
   "cell_type": "markdown",
   "id": "e4a6b1f8",
   "metadata": {},
   "source": [
    "## Generator"
   ]
  },
  {
   "cell_type": "code",
   "execution_count": null,
   "id": "f17a3b3e",
   "metadata": {},
   "outputs": [],
   "source": [
    "from langchain_core.prompts import PromptTemplate\n",
    "\n",
    "prompt = PromptTemplate.from_template(\n",
    "    \"\"\"Context information is below. You are only aware of this context and nothing else.\n",
    "---------------------\n",
    "\n",
    "{context}\n",
    "\n",
    "---------------------\n",
    "Given this context, generate only questions based on the below query.\n",
    "You are an Teacher/Professor in {domain}. \n",
    "Your task is to provide exactly **{num_questions}** question(s) for an upcoming quiz/examination.\n",
    "Each question must contain the phrase `{program_name} program`.\n",
    "You are not to provide more or less than this number of questions. \n",
    "The question(s) should be diverse in nature across the document. \n",
    "The purpose of question(s) is to test the understanding of the students on the context information provided.\n",
    "You must also provide the answer to each question. The answer should be based on the context information provided only.s\n",
    "\n",
    "Restrict the question(s) to the context information provided only.\n",
    "QUESTION and ANSWER should be written in English. response in JSON format which contains the `question` and `answer`.\n",
    "DO NOT USE List in JSON format.\n",
    "ANSWER should be a complete sentence.\n",
    "\n",
    "#Format:\n",
    "```json\n",
    "{{\n",
    "    \"QUESTION\": \"What is the duration of the Administrative Assistant program?\",\n",
    "    \"ANSWER\": \"The Administrative Assistant program is an eighteen-week certificate program that includes a four-week practicum.\"\n",
    "}},\n",
    "{{\n",
    "    \"QUESTION\": \"Where is the Administrative Assistant program offered?\",\n",
    "    \"ANSWER\": \"The program is offered full-time or part-time at multiple campuses including Notre Dame (Winnipeg), Interlake (Selkirk), Peguis-Fisher River (Peguis), Portage (Portage la Prairie), Steinbach (Steinbach), and Winkler (Winkler).\"\n",
    "}},\n",
    "{{\n",
    "    \"QUESTION\": \"What skills are taught in the Customer Service (BUSA-1081) in the Administrative Assistant program?\",\n",
    "    \"ANSWER\": \"The Customer Service course focuses on listening, empathy, customer motivation, communication, conflict resolution, and interpersonal communication skills.\"\n",
    "}}\n",
    "```\n",
    "\"\"\"\n",
    ")"
   ]
  },
  {
   "cell_type": "code",
   "execution_count": 8,
   "id": "4eaa2bf5",
   "metadata": {},
   "outputs": [],
   "source": [
    "import json\n",
    "import re\n",
    "\n",
    "def custom_json_parser(response):\n",
    "    raw = str(response.content) if hasattr(response, 'content') else str(response)\n",
    "    \n",
    "    code_blocks = re.findall(r\"```json\\s*(.*?)\\s*```\", raw, re.DOTALL)\n",
    "    json_content = code_blocks[0].strip() if code_blocks else raw\n",
    "    \n",
    "    json_objects = []\n",
    "    brace_count = 0\n",
    "    start_pos = -1\n",
    "    \n",
    "    for i, char in enumerate(json_content):\n",
    "        if char == '{':\n",
    "            if brace_count == 0:\n",
    "                start_pos = i\n",
    "            brace_count += 1\n",
    "        elif char == '}':\n",
    "            brace_count -= 1\n",
    "            if brace_count == 0 and start_pos != -1:\n",
    "                obj_text = json_content[start_pos:i+1]\n",
    "                try:\n",
    "                    parsed_obj = json.loads(obj_text)\n",
    "                    if 'QUESTION' in parsed_obj and 'ANSWER' in parsed_obj:\n",
    "                        json_objects.append(parsed_obj)\n",
    "                except json.JSONDecodeError:\n",
    "                    pass\n",
    "                start_pos = -1\n",
    "                \n",
    "    return json_objects"
   ]
  },
  {
   "cell_type": "code",
   "execution_count": 9,
   "id": "467d90df",
   "metadata": {},
   "outputs": [],
   "source": [
    "from langchain_core.runnables import RunnableLambda\n",
    "from langchain_openai import ChatOpenAI\n",
    "from dotenv import load_dotenv\n",
    "\n",
    "load_dotenv()\n",
    "\n",
    "parser_runnable = RunnableLambda(custom_json_parser)\n",
    "\n",
    "chain = (\n",
    "    prompt\n",
    "    | ChatOpenAI(\n",
    "        model=\"gpt-4o\",\n",
    "        temperature=0,\n",
    "        streaming=True,\n",
    "        api_key=os.getenv(\"OPENAI_API_KEY\"),\n",
    "    )\n",
    "    | parser_runnable\n",
    ")"
   ]
  },
  {
   "cell_type": "code",
   "execution_count": null,
   "id": "4054c0bc",
   "metadata": {},
   "outputs": [],
   "source": [
    "selected_elements = ADMASSI_Print_Friendly_elements\n",
    "element_name = \"ADMASSI_Print_Friendly_elements\"\n",
    "\n",
    "qa_pairs = []\n",
    "\n",
    "for element in selected_elements:\n",
    "    try:\n",
    "        result = chain.invoke({\n",
    "            \"context\": element.text,\n",
    "            \"domain\": \"Administrative Assistant Program and Course Catalogue\",\n",
    "            \"num_questions\": \"20\",\n",
    "            \"program_name\": \"Administrative Assistant\"\n",
    "        })\n",
    "        if result:\n",
    "            qa_pairs.extend(result)\n",
    "    except Exception:\n",
    "        continue"
   ]
  },
  {
   "cell_type": "code",
   "execution_count": null,
   "id": "eef076f4",
   "metadata": {},
   "outputs": [
    {
     "name": "stdout",
     "output_type": "stream",
     "text": [
      "QA pairs saved to json1/rrc_viewbook_Print_Friendly_elements_20250602_154513.jsonl\n"
     ]
    }
   ],
   "source": [
    "import json\n",
    "from datetime import datetime\n",
    "\n",
    "timestamp = datetime.now().strftime(\"%Y%m%d_%H%M%S\")\n",
    "with open(f\"jsonl/{element_name}_{timestamp}.jsonl\", \"w\", encoding=\"utf-8\") as f:\n",
    "    for qa in qa_pairs:\n",
    "        qa_modified = {\n",
    "            \"instruction\": qa[\"QUESTION\"],\n",
    "            \"input\": \"\",\n",
    "            \"output\": qa[\"ANSWER\"],\n",
    "        }\n",
    "        f.write(json.dumps(qa_modified, ensure_ascii=False) + \"\\n\")\n",
    "print(f\"QA pairs saved to json1/{element_name}_{timestamp}.jsonl\")"
   ]
  },
  {
   "cell_type": "code",
   "execution_count": null,
   "id": "cf9cfaeb",
   "metadata": {},
   "outputs": [],
   "source": [
    "def save_qa_to_json_simple(qa_pairs, filename=None):\n",
    "    \n",
    "    try:\n",
    "        with open(filename, 'w', encoding='utf-8') as f:\n",
    "            json.dump(qa_pairs, f, ensure_ascii=False, indent=2)\n",
    "        \n",
    "        print(f\"Filename: {filename}\")\n",
    "        print(f\"Questions: {len(qa_pairs)}\")\n",
    "        print(f\"Saved\")\n",
    "        return filename\n",
    "\n",
    "    except Exception as e:\n",
    "        print(f\"Error: {e}\")\n",
    "        return None"
   ]
  },
  {
   "cell_type": "code",
   "execution_count": null,
   "id": "29e012e8",
   "metadata": {},
   "outputs": [
    {
     "name": "stdout",
     "output_type": "stream",
     "text": [
      "Filename: dataset/rrc_viewbook_Print_Friendly_elements_20250602_154513.json\n",
      "Questions: 740\n",
      "Saved\n",
      "Completed: rrc_viewbook_Print_Friendly_elements\n"
     ]
    }
   ],
   "source": [
    "saved_file = save_qa_to_json_simple(qa_pairs, f\"dataset/{element_name}_{timestamp}.json\")\n",
    "\n",
    "print(f\"Completed: {element_name}\")"
   ]
  }
 ],
 "metadata": {
  "kernelspec": {
   "display_name": "base",
   "language": "python",
   "name": "python3"
  },
  "language_info": {
   "codemirror_mode": {
    "name": "ipython",
    "version": 3
   },
   "file_extension": ".py",
   "mimetype": "text/x-python",
   "name": "python",
   "nbconvert_exporter": "python",
   "pygments_lexer": "ipython3",
   "version": "3.12.7"
  }
 },
 "nbformat": 4,
 "nbformat_minor": 5
}
