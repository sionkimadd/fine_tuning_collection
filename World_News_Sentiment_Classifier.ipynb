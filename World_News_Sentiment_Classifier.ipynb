{
 "cells": [
  {
   "cell_type": "markdown",
   "metadata": {
    "id": "V9Kgizs8l_w-"
   },
   "source": [
    "**World News Sentiment Classifier**\n",
    "\n",
    "*   **Objective**: fine-tune the *microsoft/deberta-v3-large* to classify world news headlines into 3 categories\n",
    "  *   positive\n",
    "  *   neutral\n",
    "  *   negative\n",
    "*   Resource\n",
    "  *   [Model](https://huggingface.co/microsoft/deberta-v3-large)"
   ]
  },
  {
   "cell_type": "markdown",
   "metadata": {
    "id": "8_Enw_pUmR30"
   },
   "source": [
    "## Environment Setup"
   ]
  },
  {
   "cell_type": "markdown",
   "metadata": {
    "id": "srporxFwmaVM"
   },
   "source": [
    "*   Install Libraries"
   ]
  },
  {
   "cell_type": "code",
   "execution_count": 38,
   "metadata": {
    "colab": {
     "base_uri": "https://localhost:8080/"
    },
    "id": "0ijRNBWdmcMD",
    "outputId": "458489d8-beee-4ba1-a1a9-7d9e38b66538"
   },
   "outputs": [
    {
     "name": "stdout",
     "output_type": "stream",
     "text": [
      "Requirement already satisfied: transformers in /usr/local/lib/python3.11/dist-packages (4.51.3)\n",
      "Requirement already satisfied: datasets in /usr/local/lib/python3.11/dist-packages (3.6.0)\n",
      "Requirement already satisfied: evaluate in /usr/local/lib/python3.11/dist-packages (0.4.3)\n",
      "Requirement already satisfied: wandb in /usr/local/lib/python3.11/dist-packages (0.19.10)\n",
      "Requirement already satisfied: scikit-learn in /usr/local/lib/python3.11/dist-packages (1.6.1)\n",
      "Requirement already satisfied: filelock in /usr/local/lib/python3.11/dist-packages (from transformers) (3.18.0)\n",
      "Requirement already satisfied: huggingface-hub<1.0,>=0.30.0 in /usr/local/lib/python3.11/dist-packages (from transformers) (0.30.2)\n",
      "Requirement already satisfied: numpy>=1.17 in /usr/local/lib/python3.11/dist-packages (from transformers) (2.0.2)\n",
      "Requirement already satisfied: packaging>=20.0 in /usr/local/lib/python3.11/dist-packages (from transformers) (24.2)\n",
      "Requirement already satisfied: pyyaml>=5.1 in /usr/local/lib/python3.11/dist-packages (from transformers) (6.0.2)\n",
      "Requirement already satisfied: regex!=2019.12.17 in /usr/local/lib/python3.11/dist-packages (from transformers) (2024.11.6)\n",
      "Requirement already satisfied: requests in /usr/local/lib/python3.11/dist-packages (from transformers) (2.32.3)\n",
      "Requirement already satisfied: tokenizers<0.22,>=0.21 in /usr/local/lib/python3.11/dist-packages (from transformers) (0.21.1)\n",
      "Requirement already satisfied: safetensors>=0.4.3 in /usr/local/lib/python3.11/dist-packages (from transformers) (0.5.3)\n",
      "Requirement already satisfied: tqdm>=4.27 in /usr/local/lib/python3.11/dist-packages (from transformers) (4.67.1)\n",
      "Requirement already satisfied: pyarrow>=15.0.0 in /usr/local/lib/python3.11/dist-packages (from datasets) (18.1.0)\n",
      "Requirement already satisfied: dill<0.3.9,>=0.3.0 in /usr/local/lib/python3.11/dist-packages (from datasets) (0.3.8)\n",
      "Requirement already satisfied: pandas in /usr/local/lib/python3.11/dist-packages (from datasets) (2.2.2)\n",
      "Requirement already satisfied: xxhash in /usr/local/lib/python3.11/dist-packages (from datasets) (3.5.0)\n",
      "Requirement already satisfied: multiprocess<0.70.17 in /usr/local/lib/python3.11/dist-packages (from datasets) (0.70.16)\n",
      "Requirement already satisfied: fsspec<=2025.3.0,>=2023.1.0 in /usr/local/lib/python3.11/dist-packages (from fsspec[http]<=2025.3.0,>=2023.1.0->datasets) (2025.3.0)\n",
      "Requirement already satisfied: click!=8.0.0,>=7.1 in /usr/local/lib/python3.11/dist-packages (from wandb) (8.1.8)\n",
      "Requirement already satisfied: docker-pycreds>=0.4.0 in /usr/local/lib/python3.11/dist-packages (from wandb) (0.4.0)\n",
      "Requirement already satisfied: gitpython!=3.1.29,>=1.0.0 in /usr/local/lib/python3.11/dist-packages (from wandb) (3.1.44)\n",
      "Requirement already satisfied: platformdirs in /usr/local/lib/python3.11/dist-packages (from wandb) (4.3.7)\n",
      "Requirement already satisfied: protobuf!=4.21.0,!=5.28.0,<7,>=3.19.0 in /usr/local/lib/python3.11/dist-packages (from wandb) (5.29.4)\n",
      "Requirement already satisfied: psutil>=5.0.0 in /usr/local/lib/python3.11/dist-packages (from wandb) (5.9.5)\n",
      "Requirement already satisfied: pydantic<3 in /usr/local/lib/python3.11/dist-packages (from wandb) (2.11.4)\n",
      "Requirement already satisfied: sentry-sdk>=2.0.0 in /usr/local/lib/python3.11/dist-packages (from wandb) (2.27.0)\n",
      "Requirement already satisfied: setproctitle in /usr/local/lib/python3.11/dist-packages (from wandb) (1.3.6)\n",
      "Requirement already satisfied: setuptools in /usr/local/lib/python3.11/dist-packages (from wandb) (75.2.0)\n",
      "Requirement already satisfied: typing-extensions<5,>=4.4 in /usr/local/lib/python3.11/dist-packages (from wandb) (4.13.2)\n",
      "Requirement already satisfied: scipy>=1.6.0 in /usr/local/lib/python3.11/dist-packages (from scikit-learn) (1.15.2)\n",
      "Requirement already satisfied: joblib>=1.2.0 in /usr/local/lib/python3.11/dist-packages (from scikit-learn) (1.4.2)\n",
      "Requirement already satisfied: threadpoolctl>=3.1.0 in /usr/local/lib/python3.11/dist-packages (from scikit-learn) (3.6.0)\n",
      "Requirement already satisfied: six>=1.4.0 in /usr/local/lib/python3.11/dist-packages (from docker-pycreds>=0.4.0->wandb) (1.17.0)\n",
      "Requirement already satisfied: aiohttp!=4.0.0a0,!=4.0.0a1 in /usr/local/lib/python3.11/dist-packages (from fsspec[http]<=2025.3.0,>=2023.1.0->datasets) (3.11.15)\n",
      "Requirement already satisfied: gitdb<5,>=4.0.1 in /usr/local/lib/python3.11/dist-packages (from gitpython!=3.1.29,>=1.0.0->wandb) (4.0.12)\n",
      "Requirement already satisfied: annotated-types>=0.6.0 in /usr/local/lib/python3.11/dist-packages (from pydantic<3->wandb) (0.7.0)\n",
      "Requirement already satisfied: pydantic-core==2.33.2 in /usr/local/lib/python3.11/dist-packages (from pydantic<3->wandb) (2.33.2)\n",
      "Requirement already satisfied: typing-inspection>=0.4.0 in /usr/local/lib/python3.11/dist-packages (from pydantic<3->wandb) (0.4.0)\n",
      "Requirement already satisfied: charset-normalizer<4,>=2 in /usr/local/lib/python3.11/dist-packages (from requests->transformers) (3.4.1)\n",
      "Requirement already satisfied: idna<4,>=2.5 in /usr/local/lib/python3.11/dist-packages (from requests->transformers) (3.10)\n",
      "Requirement already satisfied: urllib3<3,>=1.21.1 in /usr/local/lib/python3.11/dist-packages (from requests->transformers) (2.4.0)\n",
      "Requirement already satisfied: certifi>=2017.4.17 in /usr/local/lib/python3.11/dist-packages (from requests->transformers) (2025.4.26)\n",
      "Requirement already satisfied: python-dateutil>=2.8.2 in /usr/local/lib/python3.11/dist-packages (from pandas->datasets) (2.9.0.post0)\n",
      "Requirement already satisfied: pytz>=2020.1 in /usr/local/lib/python3.11/dist-packages (from pandas->datasets) (2025.2)\n",
      "Requirement already satisfied: tzdata>=2022.7 in /usr/local/lib/python3.11/dist-packages (from pandas->datasets) (2025.2)\n",
      "Requirement already satisfied: aiohappyeyeballs>=2.3.0 in /usr/local/lib/python3.11/dist-packages (from aiohttp!=4.0.0a0,!=4.0.0a1->fsspec[http]<=2025.3.0,>=2023.1.0->datasets) (2.6.1)\n",
      "Requirement already satisfied: aiosignal>=1.1.2 in /usr/local/lib/python3.11/dist-packages (from aiohttp!=4.0.0a0,!=4.0.0a1->fsspec[http]<=2025.3.0,>=2023.1.0->datasets) (1.3.2)\n",
      "Requirement already satisfied: attrs>=17.3.0 in /usr/local/lib/python3.11/dist-packages (from aiohttp!=4.0.0a0,!=4.0.0a1->fsspec[http]<=2025.3.0,>=2023.1.0->datasets) (25.3.0)\n",
      "Requirement already satisfied: frozenlist>=1.1.1 in /usr/local/lib/python3.11/dist-packages (from aiohttp!=4.0.0a0,!=4.0.0a1->fsspec[http]<=2025.3.0,>=2023.1.0->datasets) (1.6.0)\n",
      "Requirement already satisfied: multidict<7.0,>=4.5 in /usr/local/lib/python3.11/dist-packages (from aiohttp!=4.0.0a0,!=4.0.0a1->fsspec[http]<=2025.3.0,>=2023.1.0->datasets) (6.4.3)\n",
      "Requirement already satisfied: propcache>=0.2.0 in /usr/local/lib/python3.11/dist-packages (from aiohttp!=4.0.0a0,!=4.0.0a1->fsspec[http]<=2025.3.0,>=2023.1.0->datasets) (0.3.1)\n",
      "Requirement already satisfied: yarl<2.0,>=1.17.0 in /usr/local/lib/python3.11/dist-packages (from aiohttp!=4.0.0a0,!=4.0.0a1->fsspec[http]<=2025.3.0,>=2023.1.0->datasets) (1.20.0)\n",
      "Requirement already satisfied: smmap<6,>=3.0.1 in /usr/local/lib/python3.11/dist-packages (from gitdb<5,>=4.0.1->gitpython!=3.1.29,>=1.0.0->wandb) (5.0.2)\n"
     ]
    }
   ],
   "source": [
    "!pip install transformers datasets evaluate wandb scikit-learn"
   ]
  },
  {
   "cell_type": "markdown",
   "metadata": {
    "id": "j_kpNRmZmhMN"
   },
   "source": [
    "*   Import Libraries"
   ]
  },
  {
   "cell_type": "code",
   "execution_count": 39,
   "metadata": {
    "id": "RZsjitSxmiH6"
   },
   "outputs": [],
   "source": [
    "import re\n",
    "import numpy as np\n",
    "import pandas as pd\n",
    "import torch\n",
    "import evaluate\n",
    "from sklearn.model_selection import train_test_split\n",
    "from datasets import Dataset, DatasetDict\n",
    "from transformers import (\n",
    "    AutoTokenizer,\n",
    "    AutoModelForSequenceClassification,\n",
    "    Trainer,\n",
    "    TrainingArguments,\n",
    "    EarlyStoppingCallback,\n",
    "    DataCollatorWithPadding,\n",
    "    set_seed\n",
    ")\n",
    "import wandb"
   ]
  },
  {
   "cell_type": "markdown",
   "metadata": {
    "id": "706GNmlomkKr"
   },
   "source": [
    "*   Set Random Seed for Reproducibility"
   ]
  },
  {
   "cell_type": "code",
   "execution_count": 40,
   "metadata": {
    "id": "5dVv9seNmnZK"
   },
   "outputs": [],
   "source": [
    "SEED = 42\n",
    "set_seed(SEED)\n",
    "torch.backends.cudnn.deterministic = True\n",
    "torch.backends.cudnn.benchmark = False"
   ]
  },
  {
   "cell_type": "markdown",
   "metadata": {
    "id": "iY6ohsPjmqJB"
   },
   "source": [
    "# Tracking"
   ]
  },
  {
   "cell_type": "markdown",
   "metadata": {
    "id": "GTA4bwXamvmx"
   },
   "source": [
    "*   Initialize Wandb"
   ]
  },
  {
   "cell_type": "code",
   "execution_count": 41,
   "metadata": {
    "colab": {
     "base_uri": "https://localhost:8080/",
     "height": 612
    },
    "id": "FecJUxuQmymq",
    "outputId": "bf97dee5-766d-47a6-85f7-a99ea36b84a7"
   },
   "outputs": [
    {
     "data": {
      "text/html": [
       "Finishing previous runs because reinit is set to 'default'."
      ],
      "text/plain": [
       "<IPython.core.display.HTML object>"
      ]
     },
     "metadata": {},
     "output_type": "display_data"
    },
    {
     "data": {
      "text/html": [],
      "text/plain": [
       "<IPython.core.display.HTML object>"
      ]
     },
     "metadata": {},
     "output_type": "display_data"
    },
    {
     "data": {
      "text/html": [
       " View run <strong style=\"color:#cdcd00\">deft-snow-2</strong> at: <a href='https://wandb.ai/logical-qubit/deberta-v3-large_world_news_sentiment_classifier/runs/o1ep0fdg' target=\"_blank\">https://wandb.ai/logical-qubit/deberta-v3-large_world_news_sentiment_classifier/runs/o1ep0fdg</a><br> View project at: <a href='https://wandb.ai/logical-qubit/deberta-v3-large_world_news_sentiment_classifier' target=\"_blank\">https://wandb.ai/logical-qubit/deberta-v3-large_world_news_sentiment_classifier</a><br>Synced 5 W&B file(s), 0 media file(s), 0 artifact file(s) and 0 other file(s)"
      ],
      "text/plain": [
       "<IPython.core.display.HTML object>"
      ]
     },
     "metadata": {},
     "output_type": "display_data"
    },
    {
     "data": {
      "text/html": [
       "Find logs at: <code>./wandb/run-20250509_202740-o1ep0fdg/logs</code>"
      ],
      "text/plain": [
       "<IPython.core.display.HTML object>"
      ]
     },
     "metadata": {},
     "output_type": "display_data"
    },
    {
     "data": {
      "text/html": [
       "Tracking run with wandb version 0.19.10"
      ],
      "text/plain": [
       "<IPython.core.display.HTML object>"
      ]
     },
     "metadata": {},
     "output_type": "display_data"
    },
    {
     "data": {
      "text/html": [
       "Run data is saved locally in <code>/content/wandb/run-20250509_203551-rd10y47o</code>"
      ],
      "text/plain": [
       "<IPython.core.display.HTML object>"
      ]
     },
     "metadata": {},
     "output_type": "display_data"
    },
    {
     "data": {
      "text/html": [
       "Syncing run <strong><a href='https://wandb.ai/logical-qubit/deberta-v3-large_world_news_sentiment_classifier/runs/rd10y47o' target=\"_blank\">dulcet-galaxy-3</a></strong> to <a href='https://wandb.ai/logical-qubit/deberta-v3-large_world_news_sentiment_classifier' target=\"_blank\">Weights & Biases</a> (<a href='https://wandb.me/developer-guide' target=\"_blank\">docs</a>)<br>"
      ],
      "text/plain": [
       "<IPython.core.display.HTML object>"
      ]
     },
     "metadata": {},
     "output_type": "display_data"
    },
    {
     "data": {
      "text/html": [
       " View project at <a href='https://wandb.ai/logical-qubit/deberta-v3-large_world_news_sentiment_classifier' target=\"_blank\">https://wandb.ai/logical-qubit/deberta-v3-large_world_news_sentiment_classifier</a>"
      ],
      "text/plain": [
       "<IPython.core.display.HTML object>"
      ]
     },
     "metadata": {},
     "output_type": "display_data"
    },
    {
     "data": {
      "text/html": [
       " View run at <a href='https://wandb.ai/logical-qubit/deberta-v3-large_world_news_sentiment_classifier/runs/rd10y47o' target=\"_blank\">https://wandb.ai/logical-qubit/deberta-v3-large_world_news_sentiment_classifier/runs/rd10y47o</a>"
      ],
      "text/plain": [
       "<IPython.core.display.HTML object>"
      ]
     },
     "metadata": {},
     "output_type": "display_data"
    },
    {
     "data": {
      "text/html": [
       "<button onClick=\"this.nextSibling.style.display='block';this.style.display='none';\">Display W&B run</button><iframe src='https://wandb.ai/logical-qubit/deberta-v3-large_world_news_sentiment_classifier/runs/rd10y47o?jupyter=true' style='border:none;width:100%;height:420px;display:none;'></iframe>"
      ],
      "text/plain": [
       "<wandb.sdk.wandb_run.Run at 0x7f157055d350>"
      ]
     },
     "execution_count": 41,
     "metadata": {},
     "output_type": "execute_result"
    }
   ],
   "source": [
    "wandb.init(\n",
    "    project=\"deberta-v3-large_world_news_sentiment_classifier\",\n",
    "    config={\n",
    "        \"model\": \"microsoft/deberta-v3-large\",\n",
    "        \"seed\": SEED,\n",
    "        \"batch_size\": 8,\n",
    "        \"learning_rate\": 6e-6,\n",
    "        \"num_train_epochs\": 6,\n",
    "        \"dataset_size\": 5652\n",
    "    }\n",
    ")"
   ]
  },
  {
   "cell_type": "markdown",
   "metadata": {
    "id": "duk1vrOCnMWC"
   },
   "source": [
    "# Data Prepartion"
   ]
  },
  {
   "cell_type": "markdown",
   "metadata": {
    "id": "c8LQJKKnnP-y"
   },
   "source": [
    "*   Define Label Mapping"
   ]
  },
  {
   "cell_type": "code",
   "execution_count": 42,
   "metadata": {
    "id": "9V8gRNvjnRYZ"
   },
   "outputs": [],
   "source": [
    "LABEL_MAP = {\n",
    "    \"positive\": 0,\n",
    "    \"neutral\": 1,\n",
    "    \"negative\": 2\n",
    "}\n",
    "ID2LABEL = {v: k for k, v in LABEL_MAP.items()}"
   ]
  },
  {
   "cell_type": "markdown",
   "metadata": {
    "id": "63CiRUlwnSzC"
   },
   "source": [
    "*   Load Dataset"
   ]
  },
  {
   "cell_type": "code",
   "execution_count": 43,
   "metadata": {
    "id": "bNOCgMF5nYUY"
   },
   "outputs": [],
   "source": [
    "df = pd.read_csv(\"cleaned_world_news_sentiment.csv\")"
   ]
  },
  {
   "cell_type": "markdown",
   "metadata": {
    "id": "7_bOef6OnaHZ"
   },
   "source": [
    "*   Process Filtering and Mapping"
   ]
  },
  {
   "cell_type": "code",
   "execution_count": 44,
   "metadata": {
    "id": "uslYs_qCncIo"
   },
   "outputs": [],
   "source": [
    "df = df[df['sentiment'].isin(LABEL_MAP.keys())]\n",
    "df['sentiment'] = df['sentiment'].map(LABEL_MAP).astype(int)"
   ]
  },
  {
   "cell_type": "markdown",
   "metadata": {
    "id": "x_I-57TsneOA"
   },
   "source": [
    "*   Process Sampling"
   ]
  },
  {
   "cell_type": "code",
   "execution_count": 45,
   "metadata": {
    "colab": {
     "base_uri": "https://localhost:8080/"
    },
    "id": "Sx-DBU1enftx",
    "outputId": "0bf9bfca-9738-4750-bd3b-0b7288ef3ad6"
   },
   "outputs": [
    {
     "name": "stderr",
     "output_type": "stream",
     "text": [
      "<ipython-input-45-62cff4dfe74f>:4: DeprecationWarning: DataFrameGroupBy.apply operated on the grouping columns. This behavior is deprecated, and in a future version of pandas the grouping columns will be excluded from the operation. Either pass `include_groups=False` to exclude the groupings or explicitly select the grouping columns after groupby to silence this warning.\n",
      "  .apply(lambda x: x.sample(n=SAMPLES_PER_LABEL, random_state=SEED))\n"
     ]
    }
   ],
   "source": [
    "SAMPLES_PER_LABEL = 1884\n",
    "df = (\n",
    "    df.groupby('sentiment', group_keys=False)\n",
    "    .apply(lambda x: x.sample(n=SAMPLES_PER_LABEL, random_state=SEED))\n",
    "    .reset_index(drop=True)\n",
    ")"
   ]
  },
  {
   "cell_type": "code",
   "execution_count": 46,
   "metadata": {
    "colab": {
     "base_uri": "https://localhost:8080/"
    },
    "id": "0zuhH6G1nhYZ",
    "outputId": "b45b3344-d848-46d8-cc7c-d575520a7944"
   },
   "outputs": [
    {
     "name": "stdout",
     "output_type": "stream",
     "text": [
      "Dataset Scale: 5652\n",
      "Sentiment Distribution:\n",
      "sentiment\n",
      "0    1884\n",
      "1    1884\n",
      "2    1884\n",
      "Name: count, dtype: int64\n"
     ]
    }
   ],
   "source": [
    "print(f\"Dataset Scale: {len(df)}\")\n",
    "print(f\"Sentiment Distribution:\\n{df['sentiment'].value_counts()}\")"
   ]
  },
  {
   "cell_type": "markdown",
   "metadata": {
    "id": "JUvGHXPtnjHR"
   },
   "source": [
    "*   Split Dataset"
   ]
  },
  {
   "cell_type": "code",
   "execution_count": 47,
   "metadata": {
    "id": "M12hGuvtnkBh"
   },
   "outputs": [],
   "source": [
    "train_val, test_df = train_test_split(\n",
    "    df,\n",
    "    test_size=0.1,\n",
    "    stratify=df['sentiment'],\n",
    "    random_state=SEED\n",
    ")\n",
    "\n",
    "train_df, val_df = train_test_split(\n",
    "    train_val,\n",
    "    test_size=0.1,\n",
    "    stratify=train_val['sentiment'],\n",
    "    random_state=SEED\n",
    ")"
   ]
  },
  {
   "cell_type": "code",
   "execution_count": 48,
   "metadata": {
    "colab": {
     "base_uri": "https://localhost:8080/"
    },
    "id": "p3FKGu73nmvo",
    "outputId": "cc1a6199-bcf9-4a2d-a936-062dad859f96"
   },
   "outputs": [
    {
     "name": "stdout",
     "output_type": "stream",
     "text": [
      "Train: 4577, Validation: 509, Test: 566\n"
     ]
    }
   ],
   "source": [
    "print(f\"Train: {len(train_df)}, Validation: {len(val_df)}, Test: {len(test_df)}\")"
   ]
  },
  {
   "cell_type": "markdown",
   "metadata": {
    "id": "pytI8uRMnoiW"
   },
   "source": [
    "*   Convert pandas DataFrame to Hugging Face DatasetDict"
   ]
  },
  {
   "cell_type": "code",
   "execution_count": 49,
   "metadata": {
    "id": "972EWAelnpoY"
   },
   "outputs": [],
   "source": [
    "dataset = DatasetDict({\n",
    "    \"train\": Dataset.from_pandas(train_df, preserve_index=False),\n",
    "    \"validation\": Dataset.from_pandas(val_df, preserve_index=False),\n",
    "    \"test\": Dataset.from_pandas(test_df, preserve_index=False)\n",
    "})"
   ]
  },
  {
   "cell_type": "markdown",
   "metadata": {
    "id": "WF6oW7wFnrRg"
   },
   "source": [
    "# Tokenizing"
   ]
  },
  {
   "cell_type": "markdown",
   "metadata": {
    "id": "tStLSwLBns6A"
   },
   "source": [
    "*   Initialize Model & Tokenizer"
   ]
  },
  {
   "cell_type": "code",
   "execution_count": 50,
   "metadata": {
    "colab": {
     "base_uri": "https://localhost:8080/"
    },
    "id": "IocYO3CSnvRQ",
    "outputId": "a16d53ee-327e-43c0-8812-7c050425d54c"
   },
   "outputs": [
    {
     "name": "stderr",
     "output_type": "stream",
     "text": [
      "/usr/local/lib/python3.11/dist-packages/transformers/convert_slow_tokenizer.py:559: UserWarning: The sentencepiece tokenizer that you are converting to a fast tokenizer uses the byte fallback option which is not implemented in the fast tokenizers. In practice this means that the fast version of the tokenizer can produce unknown tokens whereas the sentencepiece version would have converted these unknown tokens into a sequence of byte tokens matching the original piece of text.\n",
      "  warnings.warn(\n"
     ]
    }
   ],
   "source": [
    "MODEL_NAME = \"microsoft/deberta-v3-large\"\n",
    "tokenizer = AutoTokenizer.from_pretrained(MODEL_NAME)\n",
    "tokenizer.model_max_length = 256"
   ]
  },
  {
   "cell_type": "markdown",
   "metadata": {
    "id": "uSxhhrC8nxM4"
   },
   "source": [
    "*   Define Tokenization Function"
   ]
  },
  {
   "cell_type": "code",
   "execution_count": 51,
   "metadata": {
    "id": "lmNeYZpFnyVJ"
   },
   "outputs": [],
   "source": [
    "def tokenize_fn(batch):\n",
    "    return tokenizer(\n",
    "        batch[\"title\"],\n",
    "        truncation=True,\n",
    "        max_length=256,\n",
    "        padding=False,\n",
    "        add_special_tokens=True\n",
    "    )"
   ]
  },
  {
   "cell_type": "markdown",
   "metadata": {
    "id": "_apz6e4on0F5"
   },
   "source": [
    "*   Tokenize Dataset & Format for PyTorch"
   ]
  },
  {
   "cell_type": "code",
   "execution_count": 52,
   "metadata": {
    "colab": {
     "base_uri": "https://localhost:8080/",
     "height": 113,
     "referenced_widgets": [
      "fb726c80252943598aee027a268ed8c3",
      "9099da8a20d54834aee53c77e113b14d",
      "b23df058c7974c5c86b1fd0e51212aab",
      "8b36d215acfb475d976e7c86bc26af8e",
      "0244ae4ab32c4fefb67e1d737febde62",
      "518eee5bd7924083ac0d83008c6711b1",
      "2cb292b712d940f3848f58b53d9c0613",
      "25af4a7df3534559aec0b551652d21f1",
      "e52b3d189ed6462fa19d266203f6c8d4",
      "62be460f855e44da993edb9f0cde2cab",
      "137ddbb8026246f9b90af22f37acfd0d",
      "2bf4b67c865e4de7a09821afd392b28c",
      "02c00e256cba4c468367de16650a9ba3",
      "d5fede2259b84c088ce24475a6781c7c",
      "12ce2a5308404945a46ae9eec58f4f54",
      "b3842a245cc740ed872b9d228a0b5d5a",
      "56b7f28c03204a2099f1378054a82eeb",
      "299375f5addb478cbe0463f52ed8a51e",
      "5861169442a44526ba14be3a4d81dae9",
      "4eddb65a28f647649521e1fc53f57020",
      "da04bd3572394f86a459ad55cb907391",
      "667d2abe670b4cb5a2a9944f6339344d",
      "b4b8b250be7a491c90769648cec2ec48",
      "70b046c00b504e349e2c24c8238595b8",
      "55b9771c51cc45be8b9d32db0e5950fa",
      "c71838a9806246e5ae9c8b21026b13e2",
      "f88ec8697958419286609dd45ba2c44e",
      "b7caf21a191c432599ea4c54bbd37dc2",
      "2f79befd874346458f669ce6ce1543c4",
      "de1921240b134d0b9ba71146e935b7a3",
      "2270d012f1f4465484ae78bbe319942c",
      "e459e9351d644276acf2a516ae91bb45",
      "35b63d240a6c465db8141c653f71aeb8"
     ]
    },
    "id": "fQ18_fZxn0_a",
    "outputId": "c3f61dc5-aac1-4bc9-f028-d6fde52c099d"
   },
   "outputs": [
    {
     "data": {
      "application/vnd.jupyter.widget-view+json": {
       "model_id": "fb726c80252943598aee027a268ed8c3",
       "version_major": 2,
       "version_minor": 0
      },
      "text/plain": [
       "Map (num_proc=8):   0%|          | 0/4577 [00:00<?, ? examples/s]"
      ]
     },
     "metadata": {},
     "output_type": "display_data"
    },
    {
     "data": {
      "application/vnd.jupyter.widget-view+json": {
       "model_id": "2bf4b67c865e4de7a09821afd392b28c",
       "version_major": 2,
       "version_minor": 0
      },
      "text/plain": [
       "Map (num_proc=8):   0%|          | 0/509 [00:00<?, ? examples/s]"
      ]
     },
     "metadata": {},
     "output_type": "display_data"
    },
    {
     "data": {
      "application/vnd.jupyter.widget-view+json": {
       "model_id": "b4b8b250be7a491c90769648cec2ec48",
       "version_major": 2,
       "version_minor": 0
      },
      "text/plain": [
       "Map (num_proc=8):   0%|          | 0/566 [00:00<?, ? examples/s]"
      ]
     },
     "metadata": {},
     "output_type": "display_data"
    }
   ],
   "source": [
    "tokenized_ds = dataset.map(\n",
    "    tokenize_fn,\n",
    "    batched=True,\n",
    "    batch_size=2048,\n",
    "    remove_columns=[\"title\"],\n",
    "    num_proc=8\n",
    ")\n",
    "tokenized_ds = tokenized_ds.rename_column(\"sentiment\", \"labels\")"
   ]
  },
  {
   "cell_type": "markdown",
   "metadata": {
    "id": "dH_dl1Win3TB"
   },
   "source": [
    "# Model Initialization"
   ]
  },
  {
   "cell_type": "markdown",
   "metadata": {
    "id": "CkBRjR1cn5cx"
   },
   "source": [
    "*   Load Pretrained Model"
   ]
  },
  {
   "cell_type": "code",
   "execution_count": 53,
   "metadata": {
    "colab": {
     "base_uri": "https://localhost:8080/"
    },
    "id": "mKIfXAjyn6Zg",
    "outputId": "809e0ef9-4028-4462-cf97-8c607a8666bc"
   },
   "outputs": [
    {
     "name": "stderr",
     "output_type": "stream",
     "text": [
      "Some weights of DebertaV2ForSequenceClassification were not initialized from the model checkpoint at microsoft/deberta-v3-large and are newly initialized: ['classifier.bias', 'classifier.weight', 'pooler.dense.bias', 'pooler.dense.weight']\n",
      "You should probably TRAIN this model on a down-stream task to be able to use it for predictions and inference.\n"
     ]
    }
   ],
   "source": [
    "model = AutoModelForSequenceClassification.from_pretrained(\n",
    "    MODEL_NAME,\n",
    "    num_labels=3,\n",
    "    id2label=ID2LABEL,\n",
    "    label2id=LABEL_MAP\n",
    ")"
   ]
  },
  {
   "cell_type": "markdown",
   "metadata": {
    "id": "JflxSXk0n7xh"
   },
   "source": [
    "*   Set Training Arguments"
   ]
  },
  {
   "cell_type": "code",
   "execution_count": 54,
   "metadata": {
    "id": "hqruXXxan8tJ"
   },
   "outputs": [],
   "source": [
    "training_args = TrainingArguments(\n",
    "    output_dir=\"./deberta-v3-large_world_news_sentiment_classifier-checkpoints\",\n",
    "    save_strategy=\"steps\",\n",
    "    save_steps=300,\n",
    "    save_total_limit=20,\n",
    "\n",
    "    eval_strategy=\"steps\",\n",
    "    do_eval=True,\n",
    "    eval_steps=300,\n",
    "    load_best_model_at_end=True,\n",
    "\n",
    "    metric_for_best_model=\"f1\",\n",
    "    greater_is_better=True,\n",
    "\n",
    "    learning_rate=6e-6,\n",
    "    weight_decay=0.01,\n",
    "    warmup_steps=300,\n",
    "    lr_scheduler_type=\"linear\",\n",
    "    optim=\"adamw_torch_fused\",\n",
    "\n",
    "    per_device_train_batch_size=8,\n",
    "    per_device_eval_batch_size=8,\n",
    "    num_train_epochs=6,\n",
    "\n",
    "    fp16=True,\n",
    "    bf16=False,\n",
    "    max_grad_norm=1.0,\n",
    "\n",
    "    logging_steps=300,\n",
    "    report_to=\"wandb\",\n",
    "\n",
    "    seed=SEED,\n",
    "    dataloader_num_workers=2\n",
    ")"
   ]
  },
  {
   "cell_type": "markdown",
   "metadata": {
    "id": "_Nq3FDiEY5YD"
   },
   "source": [
    "# Metrics & Trainer"
   ]
  },
  {
   "cell_type": "markdown",
   "metadata": {
    "id": "UpKtyXiTiVqM"
   },
   "source": [
    "*   Define Metric Functions"
   ]
  },
  {
   "cell_type": "code",
   "execution_count": 55,
   "metadata": {
    "id": "Ifd0niIdoHt4"
   },
   "outputs": [],
   "source": [
    "accuracy = evaluate.load(\"accuracy\")\n",
    "f1 = evaluate.load(\"f1\")\n",
    "\n",
    "def compute_metrics(eval_pred):\n",
    "    preds, labels = eval_pred\n",
    "    preds = np.argmax(preds, axis=1)\n",
    "    return {\n",
    "        \"accuracy\": accuracy.compute(predictions=preds, references=labels)[\"accuracy\"],\n",
    "        \"f1\": f1.compute(predictions=preds, references=labels, average=\"macro\")[\"f1\"]\n",
    "    }"
   ]
  },
  {
   "cell_type": "markdown",
   "metadata": {
    "id": "gLk2k-CvilMP"
   },
   "source": [
    "*   Initialize Trainer"
   ]
  },
  {
   "cell_type": "code",
   "execution_count": 56,
   "metadata": {
    "id": "l6mENg4ToKcx"
   },
   "outputs": [],
   "source": [
    "data_collator = DataCollatorWithPadding(tokenizer)\n",
    "\n",
    "trainer = Trainer(\n",
    "    model=model,\n",
    "    args=training_args,\n",
    "    train_dataset=tokenized_ds[\"train\"],\n",
    "    eval_dataset=tokenized_ds[\"validation\"],\n",
    "    data_collator=data_collator,\n",
    "    compute_metrics=compute_metrics,\n",
    "    callbacks=[EarlyStoppingCallback(early_stopping_patience=15)],\n",
    ")"
   ]
  },
  {
   "cell_type": "markdown",
   "metadata": {
    "id": "-G44Sw6PZGmN"
   },
   "source": [
    "# Train & Evaluate"
   ]
  },
  {
   "cell_type": "code",
   "execution_count": 57,
   "metadata": {
    "colab": {
     "base_uri": "https://localhost:8080/",
     "height": 456
    },
    "id": "5EbrUCWjoNlY",
    "outputId": "a01b5c68-0c82-413a-9e94-dbe8b8b3cc7e"
   },
   "outputs": [
    {
     "name": "stderr",
     "output_type": "stream",
     "text": [
      "\u001b[34m\u001b[1mwandb\u001b[0m: \u001b[33mWARNING\u001b[0m The `run_name` is currently set to the same value as `TrainingArguments.output_dir`. If this was not intended, please specify a different run name by setting the `TrainingArguments.run_name` parameter.\n"
     ]
    },
    {
     "data": {
      "text/html": [
       "\n",
       "    <div>\n",
       "      \n",
       "      <progress value='3438' max='3438' style='width:300px; height:20px; vertical-align: middle;'></progress>\n",
       "      [3438/3438 13:17, Epoch 6/6]\n",
       "    </div>\n",
       "    <table border=\"1\" class=\"dataframe\">\n",
       "  <thead>\n",
       " <tr style=\"text-align: left;\">\n",
       "      <th>Step</th>\n",
       "      <th>Training Loss</th>\n",
       "      <th>Validation Loss</th>\n",
       "      <th>Accuracy</th>\n",
       "      <th>F1</th>\n",
       "    </tr>\n",
       "  </thead>\n",
       "  <tbody>\n",
       "    <tr>\n",
       "      <td>300</td>\n",
       "      <td>0.983100</td>\n",
       "      <td>0.674727</td>\n",
       "      <td>0.632613</td>\n",
       "      <td>0.551556</td>\n",
       "    </tr>\n",
       "    <tr>\n",
       "      <td>600</td>\n",
       "      <td>0.355100</td>\n",
       "      <td>0.178485</td>\n",
       "      <td>0.960707</td>\n",
       "      <td>0.960639</td>\n",
       "    </tr>\n",
       "    <tr>\n",
       "      <td>900</td>\n",
       "      <td>0.116400</td>\n",
       "      <td>0.158937</td>\n",
       "      <td>0.972495</td>\n",
       "      <td>0.972573</td>\n",
       "    </tr>\n",
       "    <tr>\n",
       "      <td>1200</td>\n",
       "      <td>0.118900</td>\n",
       "      <td>0.187177</td>\n",
       "      <td>0.966601</td>\n",
       "      <td>0.966434</td>\n",
       "    </tr>\n",
       "    <tr>\n",
       "      <td>1500</td>\n",
       "      <td>0.050100</td>\n",
       "      <td>0.239793</td>\n",
       "      <td>0.956778</td>\n",
       "      <td>0.956729</td>\n",
       "    </tr>\n",
       "    <tr>\n",
       "      <td>1800</td>\n",
       "      <td>0.029300</td>\n",
       "      <td>0.203145</td>\n",
       "      <td>0.966601</td>\n",
       "      <td>0.966741</td>\n",
       "    </tr>\n",
       "    <tr>\n",
       "      <td>2100</td>\n",
       "      <td>0.014700</td>\n",
       "      <td>0.175513</td>\n",
       "      <td>0.972495</td>\n",
       "      <td>0.972547</td>\n",
       "    </tr>\n",
       "    <tr>\n",
       "      <td>2400</td>\n",
       "      <td>0.020400</td>\n",
       "      <td>0.235171</td>\n",
       "      <td>0.966601</td>\n",
       "      <td>0.966652</td>\n",
       "    </tr>\n",
       "    <tr>\n",
       "      <td>2700</td>\n",
       "      <td>0.003500</td>\n",
       "      <td>0.212162</td>\n",
       "      <td>0.968566</td>\n",
       "      <td>0.968625</td>\n",
       "    </tr>\n",
       "    <tr>\n",
       "      <td>3000</td>\n",
       "      <td>0.014800</td>\n",
       "      <td>0.206356</td>\n",
       "      <td>0.972495</td>\n",
       "      <td>0.972520</td>\n",
       "    </tr>\n",
       "    <tr>\n",
       "      <td>3300</td>\n",
       "      <td>0.006200</td>\n",
       "      <td>0.204584</td>\n",
       "      <td>0.972495</td>\n",
       "      <td>0.972520</td>\n",
       "    </tr>\n",
       "  </tbody>\n",
       "</table><p>"
      ],
      "text/plain": [
       "<IPython.core.display.HTML object>"
      ]
     },
     "metadata": {},
     "output_type": "display_data"
    },
    {
     "data": {
      "text/plain": [
       "TrainOutput(global_step=3438, training_loss=0.14977117601420173, metrics={'train_runtime': 799.7312, 'train_samples_per_second': 34.339, 'train_steps_per_second': 4.299, 'total_flos': 1746728275251834.0, 'train_loss': 0.14977117601420173, 'epoch': 6.0})"
      ]
     },
     "execution_count": 57,
     "metadata": {},
     "output_type": "execute_result"
    }
   ],
   "source": [
    "trainer.train()"
   ]
  },
  {
   "cell_type": "markdown",
   "metadata": {
    "id": "ksNl8r22pX9y"
   },
   "source": [
    "*   Evaluate by Validation"
   ]
  },
  {
   "cell_type": "code",
   "execution_count": 58,
   "metadata": {
    "colab": {
     "base_uri": "https://localhost:8080/",
     "height": 73
    },
    "id": "14hn5ThxoQyp",
    "outputId": "6d91002e-1ccc-4185-fd38-001bdd33dec5"
   },
   "outputs": [
    {
     "data": {
      "text/html": [
       "\n",
       "    <div>\n",
       "      \n",
       "      <progress value='64' max='64' style='width:300px; height:20px; vertical-align: middle;'></progress>\n",
       "      [64/64 00:03]\n",
       "    </div>\n",
       "    "
      ],
      "text/plain": [
       "<IPython.core.display.HTML object>"
      ]
     },
     "metadata": {},
     "output_type": "display_data"
    },
    {
     "name": "stdout",
     "output_type": "stream",
     "text": [
      "Validation Accuracy: 0.9725\n",
      "Validation F1: 0.9726\n"
     ]
    }
   ],
   "source": [
    "val_results = trainer.evaluate(tokenized_ds[\"validation\"])\n",
    "print(f\"Validation Accuracy: {val_results['eval_accuracy']:.4f}\")\n",
    "print(f\"Validation F1: {val_results['eval_f1']:.4f}\")"
   ]
  },
  {
   "cell_type": "markdown",
   "metadata": {
    "id": "ePwH96CVpgqi"
   },
   "source": [
    "*   Evaluate by Test"
   ]
  },
  {
   "cell_type": "code",
   "execution_count": 59,
   "metadata": {
    "colab": {
     "base_uri": "https://localhost:8080/",
     "height": 73
    },
    "id": "I0ZmOyXroTZQ",
    "outputId": "e6a97868-eb38-497c-91c6-1de0417ec980"
   },
   "outputs": [
    {
     "data": {
      "text/html": [
       "\n",
       "    <div>\n",
       "      \n",
       "      <progress value='135' max='64' style='width:300px; height:20px; vertical-align: middle;'></progress>\n",
       "      [64/64 00:10]\n",
       "    </div>\n",
       "    "
      ],
      "text/plain": [
       "<IPython.core.display.HTML object>"
      ]
     },
     "metadata": {},
     "output_type": "display_data"
    },
    {
     "name": "stdout",
     "output_type": "stream",
     "text": [
      "Test Accuracy: 0.9859\n",
      "Test F1: 0.9859\n"
     ]
    }
   ],
   "source": [
    "test_results = trainer.evaluate(tokenized_ds[\"test\"])\n",
    "print(f\"Test Accuracy: {test_results['eval_accuracy']:.4f}\")\n",
    "print(f\"Test F1: {test_results['eval_f1']:.4f}\")"
   ]
  },
  {
   "cell_type": "markdown",
   "metadata": {
    "id": "6J-QQOSejn0W"
   },
   "source": [
    "*   Save Model"
   ]
  },
  {
   "cell_type": "code",
   "execution_count": 60,
   "metadata": {
    "colab": {
     "base_uri": "https://localhost:8080/"
    },
    "id": "nof-GqmWoVOR",
    "outputId": "ef9fdd2c-9880-4c7d-c5cf-30e28b056e02"
   },
   "outputs": [
    {
     "data": {
      "text/plain": [
       "('deberta-v3-large-world-news-sentiment-classifier/tokenizer_config.json',\n",
       " 'deberta-v3-large-world-news-sentiment-classifier/special_tokens_map.json',\n",
       " 'deberta-v3-large-world-news-sentiment-classifier/spm.model',\n",
       " 'deberta-v3-large-world-news-sentiment-classifier/added_tokens.json',\n",
       " 'deberta-v3-large-world-news-sentiment-classifier/tokenizer.json')"
      ]
     },
     "execution_count": 60,
     "metadata": {},
     "output_type": "execute_result"
    }
   ],
   "source": [
    "trainer.save_model(\"deberta-v3-large-world-news-sentiment-classifier\")\n",
    "tokenizer.save_pretrained(\"deberta-v3-large-world-news-sentiment-classifier\")"
   ]
  },
  {
   "cell_type": "markdown",
   "metadata": {
    "id": "yVqfrV71pQbS"
   },
   "source": [
    "*   Finish Wandb"
   ]
  },
  {
   "cell_type": "code",
   "execution_count": 61,
   "metadata": {
    "colab": {
     "base_uri": "https://localhost:8080/",
     "height": 839
    },
    "id": "AMCqtJJ9oXFZ",
    "outputId": "c5aebfe7-6b80-4f4b-b51e-0670eb793b11"
   },
   "outputs": [
    {
     "data": {
      "text/html": [],
      "text/plain": [
       "<IPython.core.display.HTML object>"
      ]
     },
     "metadata": {},
     "output_type": "display_data"
    },
    {
     "data": {
      "text/html": [
       "<br>    <style><br>        .wandb-row {<br>            display: flex;<br>            flex-direction: row;<br>            flex-wrap: wrap;<br>            justify-content: flex-start;<br>            width: 100%;<br>        }<br>        .wandb-col {<br>            display: flex;<br>            flex-direction: column;<br>            flex-basis: 100%;<br>            flex: 1;<br>            padding: 10px;<br>        }<br>    </style><br><div class=\"wandb-row\"><div class=\"wandb-col\"><h3>Run history:</h3><br/><table class=\"wandb\"><tr><td>eval/accuracy</td><td>▁███▇████████</td></tr><tr><td>eval/f1</td><td>▁████████████</td></tr><tr><td>eval/loss</td><td>█▂▂▂▃▂▂▃▂▂▂▂▁</td></tr><tr><td>eval/runtime</td><td>▂▃▁▁▁▂▁▃▂▂▃▁█</td></tr><tr><td>eval/samples_per_second</td><td>▅▃█▇█▄▇▁▄▃▂▇▃</td></tr><tr><td>eval/steps_per_second</td><td>▅▃█▇█▄▇▁▄▃▂▇▃</td></tr><tr><td>train/epoch</td><td>▁▁▂▂▂▂▃▃▄▄▄▄▅▅▆▆▆▆▇▇█████</td></tr><tr><td>train/global_step</td><td>▁▁▂▂▂▂▃▃▄▄▄▄▅▅▆▆▆▆▇▇█████</td></tr><tr><td>train/grad_norm</td><td>▁▁█▁▁▁▁▁▁▁▁</td></tr><tr><td>train/learning_rate</td><td>█▇▇▆▅▅▄▃▂▂▁</td></tr><tr><td>train/loss</td><td>█▄▂▂▁▁▁▁▁▁▁</td></tr></table><br/></div><div class=\"wandb-col\"><h3>Run summary:</h3><br/><table class=\"wandb\"><tr><td>eval/accuracy</td><td>0.98587</td></tr><tr><td>eval/f1</td><td>0.98586</td></tr><tr><td>eval/loss</td><td>0.09534</td></tr><tr><td>eval/runtime</td><td>4.585</td></tr><tr><td>eval/samples_per_second</td><td>123.446</td></tr><tr><td>eval/steps_per_second</td><td>15.485</td></tr><tr><td>total_flos</td><td>1746728275251834.0</td></tr><tr><td>train/epoch</td><td>6</td></tr><tr><td>train/global_step</td><td>3438</td></tr><tr><td>train/grad_norm</td><td>0.00348</td></tr><tr><td>train/learning_rate</td><td>0.0</td></tr><tr><td>train/loss</td><td>0.0062</td></tr><tr><td>train_loss</td><td>0.14977</td></tr><tr><td>train_runtime</td><td>799.7312</td></tr><tr><td>train_samples_per_second</td><td>34.339</td></tr><tr><td>train_steps_per_second</td><td>4.299</td></tr></table><br/></div></div>"
      ],
      "text/plain": [
       "<IPython.core.display.HTML object>"
      ]
     },
     "metadata": {},
     "output_type": "display_data"
    },
    {
     "data": {
      "text/html": [
       " View run <strong style=\"color:#cdcd00\">dulcet-galaxy-3</strong> at: <a href='https://wandb.ai/logical-qubit/deberta-v3-large_world_news_sentiment_classifier/runs/rd10y47o' target=\"_blank\">https://wandb.ai/logical-qubit/deberta-v3-large_world_news_sentiment_classifier/runs/rd10y47o</a><br> View project at: <a href='https://wandb.ai/logical-qubit/deberta-v3-large_world_news_sentiment_classifier' target=\"_blank\">https://wandb.ai/logical-qubit/deberta-v3-large_world_news_sentiment_classifier</a><br>Synced 5 W&B file(s), 0 media file(s), 0 artifact file(s) and 0 other file(s)"
      ],
      "text/plain": [
       "<IPython.core.display.HTML object>"
      ]
     },
     "metadata": {},
     "output_type": "display_data"
    },
    {
     "data": {
      "text/html": [
       "Find logs at: <code>./wandb/run-20250509_203551-rd10y47o/logs</code>"
      ],
      "text/plain": [
       "<IPython.core.display.HTML object>"
      ]
     },
     "metadata": {},
     "output_type": "display_data"
    }
   ],
   "source": [
    "wandb.finish()"
   ]
  }
 ],
 "metadata": {
  "accelerator": "GPU",
  "colab": {
   "gpuType": "A100",
   "machine_shape": "hm",
   "provenance": []
  },
  "kernelspec": {
   "display_name": "Python 3",
   "name": "python3"
  },
  "language_info": {
   "name": "python"
  }
 },
 "nbformat": 4,
 "nbformat_minor": 0
}
