{
 "cells": [
  {
   "cell_type": "markdown",
   "metadata": {
    "id": "V9Kgizs8l_w-"
   },
   "source": [
    "**Business News Sentiment Classifier**\n",
    "\n",
    "*   **Objective**: fine-tune the *microsoft/deberta-v3-large* to classify business news headlines into 3 categories\n",
    "  *   positive\n",
    "  *   neutral\n",
    "  *   negative\n",
    "*   Resource\n",
    "  *   [Model](https://huggingface.co/microsoft/deberta-v3-large)"
   ]
  },
  {
   "cell_type": "markdown",
   "metadata": {
    "id": "8_Enw_pUmR30"
   },
   "source": [
    "## Environment Setup"
   ]
  },
  {
   "cell_type": "markdown",
   "metadata": {
    "id": "srporxFwmaVM"
   },
   "source": [
    "*   Install Libraries"
   ]
  },
  {
   "cell_type": "code",
   "execution_count": 1,
   "metadata": {
    "colab": {
     "base_uri": "https://localhost:8080/"
    },
    "id": "0ijRNBWdmcMD",
    "outputId": "076f3472-c631-4f01-973d-edc06e04b47b"
   },
   "outputs": [
    {
     "name": "stdout",
     "output_type": "stream",
     "text": [
      "Requirement already satisfied: transformers in /usr/local/lib/python3.11/dist-packages (4.51.3)\n",
      "Collecting datasets\n",
      "  Downloading datasets-3.6.0-py3-none-any.whl.metadata (19 kB)\n",
      "Collecting evaluate\n",
      "  Downloading evaluate-0.4.3-py3-none-any.whl.metadata (9.2 kB)\n",
      "Requirement already satisfied: wandb in /usr/local/lib/python3.11/dist-packages (0.19.10)\n",
      "Requirement already satisfied: scikit-learn in /usr/local/lib/python3.11/dist-packages (1.6.1)\n",
      "Requirement already satisfied: filelock in /usr/local/lib/python3.11/dist-packages (from transformers) (3.18.0)\n",
      "Requirement already satisfied: huggingface-hub<1.0,>=0.30.0 in /usr/local/lib/python3.11/dist-packages (from transformers) (0.30.2)\n",
      "Requirement already satisfied: numpy>=1.17 in /usr/local/lib/python3.11/dist-packages (from transformers) (2.0.2)\n",
      "Requirement already satisfied: packaging>=20.0 in /usr/local/lib/python3.11/dist-packages (from transformers) (24.2)\n",
      "Requirement already satisfied: pyyaml>=5.1 in /usr/local/lib/python3.11/dist-packages (from transformers) (6.0.2)\n",
      "Requirement already satisfied: regex!=2019.12.17 in /usr/local/lib/python3.11/dist-packages (from transformers) (2024.11.6)\n",
      "Requirement already satisfied: requests in /usr/local/lib/python3.11/dist-packages (from transformers) (2.32.3)\n",
      "Requirement already satisfied: tokenizers<0.22,>=0.21 in /usr/local/lib/python3.11/dist-packages (from transformers) (0.21.1)\n",
      "Requirement already satisfied: safetensors>=0.4.3 in /usr/local/lib/python3.11/dist-packages (from transformers) (0.5.3)\n",
      "Requirement already satisfied: tqdm>=4.27 in /usr/local/lib/python3.11/dist-packages (from transformers) (4.67.1)\n",
      "Requirement already satisfied: pyarrow>=15.0.0 in /usr/local/lib/python3.11/dist-packages (from datasets) (18.1.0)\n",
      "Collecting dill<0.3.9,>=0.3.0 (from datasets)\n",
      "  Downloading dill-0.3.8-py3-none-any.whl.metadata (10 kB)\n",
      "Requirement already satisfied: pandas in /usr/local/lib/python3.11/dist-packages (from datasets) (2.2.2)\n",
      "Collecting xxhash (from datasets)\n",
      "  Downloading xxhash-3.5.0-cp311-cp311-manylinux_2_17_x86_64.manylinux2014_x86_64.whl.metadata (12 kB)\n",
      "Collecting multiprocess<0.70.17 (from datasets)\n",
      "  Downloading multiprocess-0.70.16-py311-none-any.whl.metadata (7.2 kB)\n",
      "Collecting fsspec<=2025.3.0,>=2023.1.0 (from fsspec[http]<=2025.3.0,>=2023.1.0->datasets)\n",
      "  Downloading fsspec-2025.3.0-py3-none-any.whl.metadata (11 kB)\n",
      "Requirement already satisfied: click!=8.0.0,>=7.1 in /usr/local/lib/python3.11/dist-packages (from wandb) (8.1.8)\n",
      "Requirement already satisfied: docker-pycreds>=0.4.0 in /usr/local/lib/python3.11/dist-packages (from wandb) (0.4.0)\n",
      "Requirement already satisfied: gitpython!=3.1.29,>=1.0.0 in /usr/local/lib/python3.11/dist-packages (from wandb) (3.1.44)\n",
      "Requirement already satisfied: platformdirs in /usr/local/lib/python3.11/dist-packages (from wandb) (4.3.7)\n",
      "Requirement already satisfied: protobuf!=4.21.0,!=5.28.0,<7,>=3.19.0 in /usr/local/lib/python3.11/dist-packages (from wandb) (5.29.4)\n",
      "Requirement already satisfied: psutil>=5.0.0 in /usr/local/lib/python3.11/dist-packages (from wandb) (5.9.5)\n",
      "Requirement already satisfied: pydantic<3 in /usr/local/lib/python3.11/dist-packages (from wandb) (2.11.4)\n",
      "Requirement already satisfied: sentry-sdk>=2.0.0 in /usr/local/lib/python3.11/dist-packages (from wandb) (2.27.0)\n",
      "Requirement already satisfied: setproctitle in /usr/local/lib/python3.11/dist-packages (from wandb) (1.3.6)\n",
      "Requirement already satisfied: setuptools in /usr/local/lib/python3.11/dist-packages (from wandb) (75.2.0)\n",
      "Requirement already satisfied: typing-extensions<5,>=4.4 in /usr/local/lib/python3.11/dist-packages (from wandb) (4.13.2)\n",
      "Requirement already satisfied: scipy>=1.6.0 in /usr/local/lib/python3.11/dist-packages (from scikit-learn) (1.15.2)\n",
      "Requirement already satisfied: joblib>=1.2.0 in /usr/local/lib/python3.11/dist-packages (from scikit-learn) (1.4.2)\n",
      "Requirement already satisfied: threadpoolctl>=3.1.0 in /usr/local/lib/python3.11/dist-packages (from scikit-learn) (3.6.0)\n",
      "Requirement already satisfied: six>=1.4.0 in /usr/local/lib/python3.11/dist-packages (from docker-pycreds>=0.4.0->wandb) (1.17.0)\n",
      "Requirement already satisfied: aiohttp!=4.0.0a0,!=4.0.0a1 in /usr/local/lib/python3.11/dist-packages (from fsspec[http]<=2025.3.0,>=2023.1.0->datasets) (3.11.15)\n",
      "Requirement already satisfied: gitdb<5,>=4.0.1 in /usr/local/lib/python3.11/dist-packages (from gitpython!=3.1.29,>=1.0.0->wandb) (4.0.12)\n",
      "Requirement already satisfied: annotated-types>=0.6.0 in /usr/local/lib/python3.11/dist-packages (from pydantic<3->wandb) (0.7.0)\n",
      "Requirement already satisfied: pydantic-core==2.33.2 in /usr/local/lib/python3.11/dist-packages (from pydantic<3->wandb) (2.33.2)\n",
      "Requirement already satisfied: typing-inspection>=0.4.0 in /usr/local/lib/python3.11/dist-packages (from pydantic<3->wandb) (0.4.0)\n",
      "Requirement already satisfied: charset-normalizer<4,>=2 in /usr/local/lib/python3.11/dist-packages (from requests->transformers) (3.4.1)\n",
      "Requirement already satisfied: idna<4,>=2.5 in /usr/local/lib/python3.11/dist-packages (from requests->transformers) (3.10)\n",
      "Requirement already satisfied: urllib3<3,>=1.21.1 in /usr/local/lib/python3.11/dist-packages (from requests->transformers) (2.4.0)\n",
      "Requirement already satisfied: certifi>=2017.4.17 in /usr/local/lib/python3.11/dist-packages (from requests->transformers) (2025.4.26)\n",
      "Requirement already satisfied: python-dateutil>=2.8.2 in /usr/local/lib/python3.11/dist-packages (from pandas->datasets) (2.9.0.post0)\n",
      "Requirement already satisfied: pytz>=2020.1 in /usr/local/lib/python3.11/dist-packages (from pandas->datasets) (2025.2)\n",
      "Requirement already satisfied: tzdata>=2022.7 in /usr/local/lib/python3.11/dist-packages (from pandas->datasets) (2025.2)\n",
      "Requirement already satisfied: aiohappyeyeballs>=2.3.0 in /usr/local/lib/python3.11/dist-packages (from aiohttp!=4.0.0a0,!=4.0.0a1->fsspec[http]<=2025.3.0,>=2023.1.0->datasets) (2.6.1)\n",
      "Requirement already satisfied: aiosignal>=1.1.2 in /usr/local/lib/python3.11/dist-packages (from aiohttp!=4.0.0a0,!=4.0.0a1->fsspec[http]<=2025.3.0,>=2023.1.0->datasets) (1.3.2)\n",
      "Requirement already satisfied: attrs>=17.3.0 in /usr/local/lib/python3.11/dist-packages (from aiohttp!=4.0.0a0,!=4.0.0a1->fsspec[http]<=2025.3.0,>=2023.1.0->datasets) (25.3.0)\n",
      "Requirement already satisfied: frozenlist>=1.1.1 in /usr/local/lib/python3.11/dist-packages (from aiohttp!=4.0.0a0,!=4.0.0a1->fsspec[http]<=2025.3.0,>=2023.1.0->datasets) (1.6.0)\n",
      "Requirement already satisfied: multidict<7.0,>=4.5 in /usr/local/lib/python3.11/dist-packages (from aiohttp!=4.0.0a0,!=4.0.0a1->fsspec[http]<=2025.3.0,>=2023.1.0->datasets) (6.4.3)\n",
      "Requirement already satisfied: propcache>=0.2.0 in /usr/local/lib/python3.11/dist-packages (from aiohttp!=4.0.0a0,!=4.0.0a1->fsspec[http]<=2025.3.0,>=2023.1.0->datasets) (0.3.1)\n",
      "Requirement already satisfied: yarl<2.0,>=1.17.0 in /usr/local/lib/python3.11/dist-packages (from aiohttp!=4.0.0a0,!=4.0.0a1->fsspec[http]<=2025.3.0,>=2023.1.0->datasets) (1.20.0)\n",
      "Requirement already satisfied: smmap<6,>=3.0.1 in /usr/local/lib/python3.11/dist-packages (from gitdb<5,>=4.0.1->gitpython!=3.1.29,>=1.0.0->wandb) (5.0.2)\n",
      "Downloading datasets-3.6.0-py3-none-any.whl (491 kB)\n",
      "\u001b[2K   \u001b[90m━━━━━━━━━━━━━━━━━━━━━━━━━━━━━━━━━━━━━━━━\u001b[0m \u001b[32m491.5/491.5 kB\u001b[0m \u001b[31m9.9 MB/s\u001b[0m eta \u001b[36m0:00:00\u001b[0m\n",
      "\u001b[?25hDownloading evaluate-0.4.3-py3-none-any.whl (84 kB)\n",
      "\u001b[2K   \u001b[90m━━━━━━━━━━━━━━━━━━━━━━━━━━━━━━━━━━━━━━━━\u001b[0m \u001b[32m84.0/84.0 kB\u001b[0m \u001b[31m4.4 MB/s\u001b[0m eta \u001b[36m0:00:00\u001b[0m\n",
      "\u001b[?25hDownloading dill-0.3.8-py3-none-any.whl (116 kB)\n",
      "\u001b[2K   \u001b[90m━━━━━━━━━━━━━━━━━━━━━━━━━━━━━━━━━━━━━━━━\u001b[0m \u001b[32m116.3/116.3 kB\u001b[0m \u001b[31m6.4 MB/s\u001b[0m eta \u001b[36m0:00:00\u001b[0m\n",
      "\u001b[?25hDownloading fsspec-2025.3.0-py3-none-any.whl (193 kB)\n",
      "\u001b[2K   \u001b[90m━━━━━━━━━━━━━━━━━━━━━━━━━━━━━━━━━━━━━━━━\u001b[0m \u001b[32m193.6/193.6 kB\u001b[0m \u001b[31m12.5 MB/s\u001b[0m eta \u001b[36m0:00:00\u001b[0m\n",
      "\u001b[?25hDownloading multiprocess-0.70.16-py311-none-any.whl (143 kB)\n",
      "\u001b[2K   \u001b[90m━━━━━━━━━━━━━━━━━━━━━━━━━━━━━━━━━━━━━━━━\u001b[0m \u001b[32m143.5/143.5 kB\u001b[0m \u001b[31m12.2 MB/s\u001b[0m eta \u001b[36m0:00:00\u001b[0m\n",
      "\u001b[?25hDownloading xxhash-3.5.0-cp311-cp311-manylinux_2_17_x86_64.manylinux2014_x86_64.whl (194 kB)\n",
      "\u001b[2K   \u001b[90m━━━━━━━━━━━━━━━━━━━━━━━━━━━━━━━━━━━━━━━━\u001b[0m \u001b[32m194.8/194.8 kB\u001b[0m \u001b[31m13.1 MB/s\u001b[0m eta \u001b[36m0:00:00\u001b[0m\n",
      "\u001b[?25hInstalling collected packages: xxhash, fsspec, dill, multiprocess, datasets, evaluate\n",
      "  Attempting uninstall: fsspec\n",
      "    Found existing installation: fsspec 2025.3.2\n",
      "    Uninstalling fsspec-2025.3.2:\n",
      "      Successfully uninstalled fsspec-2025.3.2\n",
      "\u001b[31mERROR: pip's dependency resolver does not currently take into account all the packages that are installed. This behaviour is the source of the following dependency conflicts.\n",
      "torch 2.6.0+cu124 requires nvidia-cublas-cu12==12.4.5.8; platform_system == \"Linux\" and platform_machine == \"x86_64\", but you have nvidia-cublas-cu12 12.5.3.2 which is incompatible.\n",
      "torch 2.6.0+cu124 requires nvidia-cuda-cupti-cu12==12.4.127; platform_system == \"Linux\" and platform_machine == \"x86_64\", but you have nvidia-cuda-cupti-cu12 12.5.82 which is incompatible.\n",
      "torch 2.6.0+cu124 requires nvidia-cuda-nvrtc-cu12==12.4.127; platform_system == \"Linux\" and platform_machine == \"x86_64\", but you have nvidia-cuda-nvrtc-cu12 12.5.82 which is incompatible.\n",
      "torch 2.6.0+cu124 requires nvidia-cuda-runtime-cu12==12.4.127; platform_system == \"Linux\" and platform_machine == \"x86_64\", but you have nvidia-cuda-runtime-cu12 12.5.82 which is incompatible.\n",
      "torch 2.6.0+cu124 requires nvidia-cudnn-cu12==9.1.0.70; platform_system == \"Linux\" and platform_machine == \"x86_64\", but you have nvidia-cudnn-cu12 9.3.0.75 which is incompatible.\n",
      "torch 2.6.0+cu124 requires nvidia-cufft-cu12==11.2.1.3; platform_system == \"Linux\" and platform_machine == \"x86_64\", but you have nvidia-cufft-cu12 11.2.3.61 which is incompatible.\n",
      "torch 2.6.0+cu124 requires nvidia-curand-cu12==10.3.5.147; platform_system == \"Linux\" and platform_machine == \"x86_64\", but you have nvidia-curand-cu12 10.3.6.82 which is incompatible.\n",
      "torch 2.6.0+cu124 requires nvidia-cusolver-cu12==11.6.1.9; platform_system == \"Linux\" and platform_machine == \"x86_64\", but you have nvidia-cusolver-cu12 11.6.3.83 which is incompatible.\n",
      "torch 2.6.0+cu124 requires nvidia-cusparse-cu12==12.3.1.170; platform_system == \"Linux\" and platform_machine == \"x86_64\", but you have nvidia-cusparse-cu12 12.5.1.3 which is incompatible.\n",
      "torch 2.6.0+cu124 requires nvidia-nvjitlink-cu12==12.4.127; platform_system == \"Linux\" and platform_machine == \"x86_64\", but you have nvidia-nvjitlink-cu12 12.5.82 which is incompatible.\n",
      "gcsfs 2025.3.2 requires fsspec==2025.3.2, but you have fsspec 2025.3.0 which is incompatible.\u001b[0m\u001b[31m\n",
      "\u001b[0mSuccessfully installed datasets-3.6.0 dill-0.3.8 evaluate-0.4.3 fsspec-2025.3.0 multiprocess-0.70.16 xxhash-3.5.0\n"
     ]
    }
   ],
   "source": [
    "!pip install transformers datasets evaluate wandb scikit-learn"
   ]
  },
  {
   "cell_type": "markdown",
   "metadata": {
    "id": "j_kpNRmZmhMN"
   },
   "source": [
    "*   Import Libraries"
   ]
  },
  {
   "cell_type": "code",
   "execution_count": 2,
   "metadata": {
    "id": "RZsjitSxmiH6"
   },
   "outputs": [],
   "source": [
    "import re\n",
    "import numpy as np\n",
    "import pandas as pd\n",
    "import torch\n",
    "import evaluate\n",
    "from sklearn.model_selection import train_test_split\n",
    "from datasets import Dataset, DatasetDict\n",
    "from transformers import (\n",
    "    AutoTokenizer,\n",
    "    AutoModelForSequenceClassification,\n",
    "    Trainer,\n",
    "    TrainingArguments,\n",
    "    EarlyStoppingCallback,\n",
    "    DataCollatorWithPadding,\n",
    "    set_seed\n",
    ")\n",
    "import wandb"
   ]
  },
  {
   "cell_type": "markdown",
   "metadata": {
    "id": "706GNmlomkKr"
   },
   "source": [
    "*   Set Random Seed for Reproducibility"
   ]
  },
  {
   "cell_type": "code",
   "execution_count": 3,
   "metadata": {
    "id": "5dVv9seNmnZK"
   },
   "outputs": [],
   "source": [
    "SEED = 42\n",
    "set_seed(SEED)\n",
    "torch.backends.cudnn.deterministic = True\n",
    "torch.backends.cudnn.benchmark = False"
   ]
  },
  {
   "cell_type": "markdown",
   "metadata": {
    "id": "iY6ohsPjmqJB"
   },
   "source": [
    "# Tracking"
   ]
  },
  {
   "cell_type": "markdown",
   "metadata": {
    "id": "GTA4bwXamvmx"
   },
   "source": [
    "*   Initialize Wandb"
   ]
  },
  {
   "cell_type": "code",
   "execution_count": 4,
   "metadata": {
    "colab": {
     "base_uri": "https://localhost:8080/",
     "height": 680
    },
    "id": "FecJUxuQmymq",
    "outputId": "daa05910-8072-48a1-8c5b-c7ed24881068"
   },
   "outputs": [
    {
     "data": {
      "application/javascript": [
       "\n",
       "        window._wandbApiKey = new Promise((resolve, reject) => {\n",
       "            function loadScript(url) {\n",
       "            return new Promise(function(resolve, reject) {\n",
       "                let newScript = document.createElement(\"script\");\n",
       "                newScript.onerror = reject;\n",
       "                newScript.onload = resolve;\n",
       "                document.body.appendChild(newScript);\n",
       "                newScript.src = url;\n",
       "            });\n",
       "            }\n",
       "            loadScript(\"https://cdn.jsdelivr.net/npm/postmate/build/postmate.min.js\").then(() => {\n",
       "            const iframe = document.createElement('iframe')\n",
       "            iframe.style.cssText = \"width:0;height:0;border:none\"\n",
       "            document.body.appendChild(iframe)\n",
       "            const handshake = new Postmate({\n",
       "                container: iframe,\n",
       "                url: 'https://wandb.ai/authorize'\n",
       "            });\n",
       "            const timeout = setTimeout(() => reject(\"Couldn't auto authenticate\"), 5000)\n",
       "            handshake.then(function(child) {\n",
       "                child.on('authorize', data => {\n",
       "                    clearTimeout(timeout)\n",
       "                    resolve(data)\n",
       "                });\n",
       "            });\n",
       "            })\n",
       "        });\n",
       "    "
      ],
      "text/plain": [
       "<IPython.core.display.Javascript object>"
      ]
     },
     "metadata": {},
     "output_type": "display_data"
    },
    {
     "name": "stderr",
     "output_type": "stream",
     "text": [
      "\u001b[34m\u001b[1mwandb\u001b[0m: Logging into wandb.ai. (Learn how to deploy a W&B server locally: https://wandb.me/wandb-server)\n",
      "\u001b[34m\u001b[1mwandb\u001b[0m: You can find your API key in your browser here: https://wandb.ai/authorize?ref=models\n",
      "wandb: Paste an API key from your profile and hit enter:"
     ]
    },
    {
     "name": "stdout",
     "output_type": "stream",
     "text": [
      " ··········\n"
     ]
    },
    {
     "name": "stderr",
     "output_type": "stream",
     "text": [
      "\u001b[34m\u001b[1mwandb\u001b[0m: \u001b[33mWARNING\u001b[0m If you're specifying your api key in code, ensure this code is not shared publicly.\n",
      "\u001b[34m\u001b[1mwandb\u001b[0m: \u001b[33mWARNING\u001b[0m Consider setting the WANDB_API_KEY environment variable, or running `wandb login` from the command line.\n",
      "\u001b[34m\u001b[1mwandb\u001b[0m: No netrc file found, creating one.\n",
      "\u001b[34m\u001b[1mwandb\u001b[0m: Appending key for api.wandb.ai to your netrc file: /root/.netrc\n",
      "\u001b[34m\u001b[1mwandb\u001b[0m: Currently logged in as: \u001b[33mlogicalqubit\u001b[0m (\u001b[33mlogical-qubit\u001b[0m) to \u001b[32mhttps://api.wandb.ai\u001b[0m. Use \u001b[1m`wandb login --relogin`\u001b[0m to force relogin\n"
     ]
    },
    {
     "data": {
      "text/html": [
       "Tracking run with wandb version 0.19.10"
      ],
      "text/plain": [
       "<IPython.core.display.HTML object>"
      ]
     },
     "metadata": {},
     "output_type": "display_data"
    },
    {
     "data": {
      "text/html": [
       "Run data is saved locally in <code>/content/wandb/run-20250510_071911-3x7lh8ex</code>"
      ],
      "text/plain": [
       "<IPython.core.display.HTML object>"
      ]
     },
     "metadata": {},
     "output_type": "display_data"
    },
    {
     "data": {
      "text/html": [
       "Syncing run <strong><a href='https://wandb.ai/logical-qubit/deberta-v3-large_business_news_sentiment_classifier/runs/3x7lh8ex' target=\"_blank\">fancy-vortex-1</a></strong> to <a href='https://wandb.ai/logical-qubit/deberta-v3-large_business_news_sentiment_classifier' target=\"_blank\">Weights & Biases</a> (<a href='https://wandb.me/developer-guide' target=\"_blank\">docs</a>)<br>"
      ],
      "text/plain": [
       "<IPython.core.display.HTML object>"
      ]
     },
     "metadata": {},
     "output_type": "display_data"
    },
    {
     "data": {
      "text/html": [
       " View project at <a href='https://wandb.ai/logical-qubit/deberta-v3-large_business_news_sentiment_classifier' target=\"_blank\">https://wandb.ai/logical-qubit/deberta-v3-large_business_news_sentiment_classifier</a>"
      ],
      "text/plain": [
       "<IPython.core.display.HTML object>"
      ]
     },
     "metadata": {},
     "output_type": "display_data"
    },
    {
     "data": {
      "text/html": [
       " View run at <a href='https://wandb.ai/logical-qubit/deberta-v3-large_business_news_sentiment_classifier/runs/3x7lh8ex' target=\"_blank\">https://wandb.ai/logical-qubit/deberta-v3-large_business_news_sentiment_classifier/runs/3x7lh8ex</a>"
      ],
      "text/plain": [
       "<IPython.core.display.HTML object>"
      ]
     },
     "metadata": {},
     "output_type": "display_data"
    },
    {
     "data": {
      "text/html": [
       "<button onClick=\"this.nextSibling.style.display='block';this.style.display='none';\">Display W&B run</button><iframe src='https://wandb.ai/logical-qubit/deberta-v3-large_business_news_sentiment_classifier/runs/3x7lh8ex?jupyter=true' style='border:none;width:100%;height:420px;display:none;'></iframe>"
      ],
      "text/plain": [
       "<wandb.sdk.wandb_run.Run at 0x7d2163101350>"
      ]
     },
     "execution_count": 4,
     "metadata": {},
     "output_type": "execute_result"
    }
   ],
   "source": [
    "wandb.init(\n",
    "    project=\"deberta-v3-large_business_news_sentiment_classifier\",\n",
    "    config={\n",
    "        \"model\": \"microsoft/deberta-v3-large\",\n",
    "        \"seed\": SEED,\n",
    "        \"batch_size\": 8,\n",
    "        \"learning_rate\": 6e-6,\n",
    "        \"num_train_epochs\": 3,\n",
    "        \"dataset_size\": 136995\n",
    "    }\n",
    ")"
   ]
  },
  {
   "cell_type": "markdown",
   "metadata": {
    "id": "duk1vrOCnMWC"
   },
   "source": [
    "# Data Prepartion"
   ]
  },
  {
   "cell_type": "markdown",
   "metadata": {
    "id": "c8LQJKKnnP-y"
   },
   "source": [
    "*   Define Label Mapping"
   ]
  },
  {
   "cell_type": "code",
   "execution_count": 5,
   "metadata": {
    "id": "9V8gRNvjnRYZ"
   },
   "outputs": [],
   "source": [
    "LABEL_MAP = {\n",
    "    \"positive\": 0,\n",
    "    \"neutral\": 1,\n",
    "    \"negative\": 2\n",
    "}\n",
    "ID2LABEL = {v: k for k, v in LABEL_MAP.items()}"
   ]
  },
  {
   "cell_type": "markdown",
   "metadata": {
    "id": "63CiRUlwnSzC"
   },
   "source": [
    "*   Load Dataset"
   ]
  },
  {
   "cell_type": "code",
   "execution_count": 6,
   "metadata": {
    "id": "bNOCgMF5nYUY"
   },
   "outputs": [],
   "source": [
    "df = pd.read_csv(\"cleaned_business_news_sentiment.csv\")"
   ]
  },
  {
   "cell_type": "markdown",
   "metadata": {
    "id": "7_bOef6OnaHZ"
   },
   "source": [
    "*   Process Filtering and Mapping"
   ]
  },
  {
   "cell_type": "code",
   "execution_count": 7,
   "metadata": {
    "id": "uslYs_qCncIo"
   },
   "outputs": [],
   "source": [
    "df = df[df['sentiment'].isin(LABEL_MAP.keys())]\n",
    "df['sentiment'] = df['sentiment'].map(LABEL_MAP).astype(int)"
   ]
  },
  {
   "cell_type": "markdown",
   "metadata": {
    "id": "x_I-57TsneOA"
   },
   "source": [
    "*   Process Sampling"
   ]
  },
  {
   "cell_type": "code",
   "execution_count": 8,
   "metadata": {
    "colab": {
     "base_uri": "https://localhost:8080/"
    },
    "id": "Sx-DBU1enftx",
    "outputId": "426c81c8-e5a3-4407-e08e-7c9c7a852890"
   },
   "outputs": [
    {
     "name": "stderr",
     "output_type": "stream",
     "text": [
      "<ipython-input-8-a59c1942284e>:4: DeprecationWarning: DataFrameGroupBy.apply operated on the grouping columns. This behavior is deprecated, and in a future version of pandas the grouping columns will be excluded from the operation. Either pass `include_groups=False` to exclude the groupings or explicitly select the grouping columns after groupby to silence this warning.\n",
      "  .apply(lambda x: x.sample(n=SAMPLES_PER_LABEL, random_state=SEED))\n"
     ]
    }
   ],
   "source": [
    "SAMPLES_PER_LABEL = 45665\n",
    "df = (\n",
    "    df.groupby('sentiment', group_keys=False)\n",
    "    .apply(lambda x: x.sample(n=SAMPLES_PER_LABEL, random_state=SEED))\n",
    "    .reset_index(drop=True)\n",
    ")"
   ]
  },
  {
   "cell_type": "code",
   "execution_count": 9,
   "metadata": {
    "colab": {
     "base_uri": "https://localhost:8080/"
    },
    "id": "0zuhH6G1nhYZ",
    "outputId": "571e0f67-1193-4c66-978b-ead70d2c0337"
   },
   "outputs": [
    {
     "name": "stdout",
     "output_type": "stream",
     "text": [
      "Dataset Scale: 136995\n",
      "Sentiment Distribution:\n",
      "sentiment\n",
      "0    45665\n",
      "1    45665\n",
      "2    45665\n",
      "Name: count, dtype: int64\n"
     ]
    }
   ],
   "source": [
    "print(f\"Dataset Scale: {len(df)}\")\n",
    "print(f\"Sentiment Distribution:\\n{df['sentiment'].value_counts()}\")"
   ]
  },
  {
   "cell_type": "markdown",
   "metadata": {
    "id": "JUvGHXPtnjHR"
   },
   "source": [
    "*   Split Dataset"
   ]
  },
  {
   "cell_type": "code",
   "execution_count": 10,
   "metadata": {
    "id": "M12hGuvtnkBh"
   },
   "outputs": [],
   "source": [
    "train_val, test_df = train_test_split(\n",
    "    df,\n",
    "    test_size=0.1,\n",
    "    stratify=df['sentiment'],\n",
    "    random_state=SEED\n",
    ")\n",
    "\n",
    "train_df, val_df = train_test_split(\n",
    "    train_val,\n",
    "    test_size=0.1,\n",
    "    stratify=train_val['sentiment'],\n",
    "    random_state=SEED\n",
    ")"
   ]
  },
  {
   "cell_type": "code",
   "execution_count": 11,
   "metadata": {
    "colab": {
     "base_uri": "https://localhost:8080/"
    },
    "id": "p3FKGu73nmvo",
    "outputId": "8030f38f-efd3-4ccd-bea4-19926bf9622b"
   },
   "outputs": [
    {
     "name": "stdout",
     "output_type": "stream",
     "text": [
      "Train: 110965, Validation: 12330, Test: 13700\n"
     ]
    }
   ],
   "source": [
    "print(f\"Train: {len(train_df)}, Validation: {len(val_df)}, Test: {len(test_df)}\")"
   ]
  },
  {
   "cell_type": "markdown",
   "metadata": {
    "id": "pytI8uRMnoiW"
   },
   "source": [
    "*   Convert pandas DataFrame to Hugging Face DatasetDict"
   ]
  },
  {
   "cell_type": "code",
   "execution_count": 12,
   "metadata": {
    "id": "972EWAelnpoY"
   },
   "outputs": [],
   "source": [
    "dataset = DatasetDict({\n",
    "    \"train\": Dataset.from_pandas(train_df, preserve_index=False),\n",
    "    \"validation\": Dataset.from_pandas(val_df, preserve_index=False),\n",
    "    \"test\": Dataset.from_pandas(test_df, preserve_index=False)\n",
    "})"
   ]
  },
  {
   "cell_type": "markdown",
   "metadata": {
    "id": "WF6oW7wFnrRg"
   },
   "source": [
    "# Tokenizing"
   ]
  },
  {
   "cell_type": "markdown",
   "metadata": {
    "id": "tStLSwLBns6A"
   },
   "source": [
    "*   Initialize Model & Tokenizer"
   ]
  },
  {
   "cell_type": "code",
   "execution_count": 13,
   "metadata": {
    "colab": {
     "base_uri": "https://localhost:8080/",
     "height": 307,
     "referenced_widgets": [
      "3fadbd62cabb451f9e7f25f12a171bc6",
      "d263f532e48a460ca71fffc3303dc224",
      "33d8d26569804638a261983da53d9e1d",
      "b8abcafa6afa4d2ea1a4a65d1cc29365",
      "0d4e9635eed640c590b548d4c57a2013",
      "916e237cafe6497096517b64e747e13d",
      "59fc56f071fe4a55b3918ffc22e24d27",
      "1680a22872e64794bd28930e371b6548",
      "648f4e86d55e4f99b158e3fcfdc1b11d",
      "7f54a3ddf4734af98cea36b1be19b644",
      "a24a6e3e101f44b2abb0cc9a968bfd0f",
      "77e6956c2a9844069358e2ffd0ca6c04",
      "088b03e9109145c7bd2438c0b83f976c",
      "2e970296f3774b56b578fb2979ae18bd",
      "ef8558f755174575a0ccc1c8e19f2a8b",
      "4ccaf915342c48c1ab99aaa87d1948be",
      "e8bcece526ea4aaa9e5d2f66075aa51c",
      "e896e157fb7148e29f862f5032669309",
      "0187071cd23e49bfa7f951a054ca5cd0",
      "b5ce32edb262403f8cebd0c5c3a6a201",
      "5f562c11cfe24919b1420d1f6e4813c9",
      "f14fca98f9aa44daa2670bf3878a9d1c",
      "e25f423f7c804fc89c3a79d974a68e74",
      "3361c914511e4434b4516340f22145b9",
      "d99cd808cf98417c9467f0e50255ca27",
      "74805f8eeaf140078727a238977ab7cc",
      "2aa6553e903649c180a5801741627478",
      "5160827f24954ae5b34a16e6bebfe5f0",
      "bd10a0a7bb4741bc803f9fe3bab3dcd8",
      "5713f11c575449ccb0e10dba081afbfc",
      "58445550d4b140aa941ebb22d1bf08e4",
      "06a44e9d245f4ae58f9b6b0c1197ce73",
      "ab741e79a08446d7ad77f472e0daf7c2"
     ]
    },
    "id": "IocYO3CSnvRQ",
    "outputId": "5fd65f23-3053-4478-e53b-de5521273760"
   },
   "outputs": [
    {
     "name": "stderr",
     "output_type": "stream",
     "text": [
      "/usr/local/lib/python3.11/dist-packages/huggingface_hub/utils/_auth.py:94: UserWarning: \n",
      "The secret `HF_TOKEN` does not exist in your Colab secrets.\n",
      "To authenticate with the Hugging Face Hub, create a token in your settings tab (https://huggingface.co/settings/tokens), set it as secret in your Google Colab and restart your session.\n",
      "You will be able to reuse this secret in all of your notebooks.\n",
      "Please note that authentication is recommended but still optional to access public models or datasets.\n",
      "  warnings.warn(\n"
     ]
    },
    {
     "data": {
      "application/vnd.jupyter.widget-view+json": {
       "model_id": "3fadbd62cabb451f9e7f25f12a171bc6",
       "version_major": 2,
       "version_minor": 0
      },
      "text/plain": [
       "tokenizer_config.json:   0%|          | 0.00/52.0 [00:00<?, ?B/s]"
      ]
     },
     "metadata": {},
     "output_type": "display_data"
    },
    {
     "data": {
      "application/vnd.jupyter.widget-view+json": {
       "model_id": "77e6956c2a9844069358e2ffd0ca6c04",
       "version_major": 2,
       "version_minor": 0
      },
      "text/plain": [
       "config.json:   0%|          | 0.00/580 [00:00<?, ?B/s]"
      ]
     },
     "metadata": {},
     "output_type": "display_data"
    },
    {
     "name": "stderr",
     "output_type": "stream",
     "text": [
      "Xet Storage is enabled for this repo, but the 'hf_xet' package is not installed. Falling back to regular HTTP download. For better performance, install the package with: `pip install huggingface_hub[hf_xet]` or `pip install hf_xet`\n",
      "WARNING:huggingface_hub.file_download:Xet Storage is enabled for this repo, but the 'hf_xet' package is not installed. Falling back to regular HTTP download. For better performance, install the package with: `pip install huggingface_hub[hf_xet]` or `pip install hf_xet`\n"
     ]
    },
    {
     "data": {
      "application/vnd.jupyter.widget-view+json": {
       "model_id": "e25f423f7c804fc89c3a79d974a68e74",
       "version_major": 2,
       "version_minor": 0
      },
      "text/plain": [
       "spm.model:   0%|          | 0.00/2.46M [00:00<?, ?B/s]"
      ]
     },
     "metadata": {},
     "output_type": "display_data"
    },
    {
     "name": "stderr",
     "output_type": "stream",
     "text": [
      "/usr/local/lib/python3.11/dist-packages/transformers/convert_slow_tokenizer.py:559: UserWarning: The sentencepiece tokenizer that you are converting to a fast tokenizer uses the byte fallback option which is not implemented in the fast tokenizers. In practice this means that the fast version of the tokenizer can produce unknown tokens whereas the sentencepiece version would have converted these unknown tokens into a sequence of byte tokens matching the original piece of text.\n",
      "  warnings.warn(\n"
     ]
    }
   ],
   "source": [
    "MODEL_NAME = \"microsoft/deberta-v3-large\"\n",
    "tokenizer = AutoTokenizer.from_pretrained(MODEL_NAME)\n",
    "tokenizer.model_max_length = 256"
   ]
  },
  {
   "cell_type": "markdown",
   "metadata": {
    "id": "uSxhhrC8nxM4"
   },
   "source": [
    "*   Define Tokenization Function"
   ]
  },
  {
   "cell_type": "code",
   "execution_count": 14,
   "metadata": {
    "id": "lmNeYZpFnyVJ"
   },
   "outputs": [],
   "source": [
    "def tokenize_fn(batch):\n",
    "    return tokenizer(\n",
    "        batch[\"title\"],\n",
    "        truncation=True,\n",
    "        max_length=256,\n",
    "        padding=False,\n",
    "        add_special_tokens=True\n",
    "    )"
   ]
  },
  {
   "cell_type": "markdown",
   "metadata": {
    "id": "_apz6e4on0F5"
   },
   "source": [
    "*   Tokenize Dataset & Format for PyTorch"
   ]
  },
  {
   "cell_type": "code",
   "execution_count": 15,
   "metadata": {
    "colab": {
     "base_uri": "https://localhost:8080/",
     "height": 113,
     "referenced_widgets": [
      "937e42861dc5483291d4f24a928e5ca4",
      "bd17c9984e464d09886e2ac7fd4d2a3c",
      "3cb86cca36d840529ba1addb86ecd60c",
      "a318eea902f44bc489827200ad010df3",
      "e6dd1b02f8a34567853cdf09f9a959c8",
      "52a46dc488fc403794614019670f7b94",
      "a26e803d79814e88b443b720179d143b",
      "2ad168f486504ca29ebfb4bc905a1b05",
      "f96f7fd2ef34433b89c4974c3dbb086e",
      "ce68d3a58749451c8d00e0fb7b09fb7b",
      "eb72d9b25ddb413996955c2cead3cada",
      "c90b7414a4f04b379b4d8a0974fca907",
      "60e1da3d325b40b6b6a96437abcb3488",
      "917d46f6677b4716aefa49980266d26d",
      "ad6ef2a802474344aa12ec04076dc438",
      "79fd2f7e7b9343c4b4622dcc231cc785",
      "296120222c0f44478733622b68739321",
      "cacc60d8e97f4eb1a6d158d9d28b809f",
      "1bfbac4355f54a77a8b07ff566cb35b8",
      "70d60c03d268405ab8595b566d66550d",
      "595cd41d2ffb4a11bb02523669af2bdb",
      "4a2820b8edd54e20bb13e7043707f934",
      "4f20f9126bd147f881846916ef30454f",
      "a9c9d768d5d84f5b9ff71fb485c5df4d",
      "22d0fd278f204a46b2d49681ae712689",
      "70a188b13a3c47ff895d643107cba8f6",
      "2caaf163721d4e67a0b5135fefa090c5",
      "eade00c532af44a99c10c7d64a8463cc",
      "c6f4f268a9a54ba788d412c15ba6cb01",
      "6073d8ea77c14027b4587c6821c171bd",
      "05f2db48e61c4739aeb11364729f006a",
      "b92280bf138e4c79919a6aac84d45d7b",
      "e428b86fe3e948c39e2907187dbdfcfd"
     ]
    },
    "id": "fQ18_fZxn0_a",
    "outputId": "997802c8-28b3-4827-d985-63fa47bd4557"
   },
   "outputs": [
    {
     "data": {
      "application/vnd.jupyter.widget-view+json": {
       "model_id": "937e42861dc5483291d4f24a928e5ca4",
       "version_major": 2,
       "version_minor": 0
      },
      "text/plain": [
       "Map (num_proc=8):   0%|          | 0/110965 [00:00<?, ? examples/s]"
      ]
     },
     "metadata": {},
     "output_type": "display_data"
    },
    {
     "data": {
      "application/vnd.jupyter.widget-view+json": {
       "model_id": "c90b7414a4f04b379b4d8a0974fca907",
       "version_major": 2,
       "version_minor": 0
      },
      "text/plain": [
       "Map (num_proc=8):   0%|          | 0/12330 [00:00<?, ? examples/s]"
      ]
     },
     "metadata": {},
     "output_type": "display_data"
    },
    {
     "data": {
      "application/vnd.jupyter.widget-view+json": {
       "model_id": "4f20f9126bd147f881846916ef30454f",
       "version_major": 2,
       "version_minor": 0
      },
      "text/plain": [
       "Map (num_proc=8):   0%|          | 0/13700 [00:00<?, ? examples/s]"
      ]
     },
     "metadata": {},
     "output_type": "display_data"
    }
   ],
   "source": [
    "tokenized_ds = dataset.map(\n",
    "    tokenize_fn,\n",
    "    batched=True,\n",
    "    batch_size=2048,\n",
    "    remove_columns=[\"title\"],\n",
    "    num_proc=8\n",
    ")\n",
    "tokenized_ds = tokenized_ds.rename_column(\"sentiment\", \"labels\")"
   ]
  },
  {
   "cell_type": "markdown",
   "metadata": {
    "id": "dH_dl1Win3TB"
   },
   "source": [
    "# Model Initialization"
   ]
  },
  {
   "cell_type": "markdown",
   "metadata": {
    "id": "CkBRjR1cn5cx"
   },
   "source": [
    "*   Load Pretrained Model"
   ]
  },
  {
   "cell_type": "code",
   "execution_count": 16,
   "metadata": {
    "colab": {
     "base_uri": "https://localhost:8080/",
     "height": 205,
     "referenced_widgets": [
      "8780619159ca47b9a6c2d61a13fd4706",
      "b57464f66be14c43907d4be022577164",
      "441ac5bcb2cb4d319dad2c201bf6f073",
      "49ae825a6cd44716afa390e1ffe42b8f",
      "ab00ab0535be4fc0827524779826a1fd",
      "e6e83d5a5df8428aaf09fe6ee5d87dd4",
      "8e2a9b7d3e6249c19c3c6c6c73a0d0f4",
      "bad7995b6a08434f9890de90eeb353fc",
      "10d8cad2da934cc68995de199708a84b",
      "26f4a4e90d0f4624891ec84609629e89",
      "0d4a37c2cb2b4afcb33948535be81d21",
      "a93545900816420a9b350f64aa774c7e",
      "8d34bb921c0f4defbedabb09e7d11d8d",
      "c09f5eb18601471ca272ebe6a295a222",
      "a4c598be21a84252b6b58b9c6b6a798b",
      "a35f35a93f694454802fa152699ec0bd",
      "35b08e064f3344f7bc973e827aa9b6f6",
      "7ff61c4ea0f04a08b70b66f78f719fbd",
      "2e29712645734f2694cb326639b3e88c",
      "5e60723e4b71415e82c8f5b8279aad59",
      "0f994dd9b75a45ccb247cf86d142dbd5",
      "a56864523ed0497e8a2873ec78a97862"
     ]
    },
    "id": "mKIfXAjyn6Zg",
    "outputId": "51fe59b5-1579-4088-ff69-3c722de4d8f3"
   },
   "outputs": [
    {
     "name": "stderr",
     "output_type": "stream",
     "text": [
      "Xet Storage is enabled for this repo, but the 'hf_xet' package is not installed. Falling back to regular HTTP download. For better performance, install the package with: `pip install huggingface_hub[hf_xet]` or `pip install hf_xet`\n",
      "WARNING:huggingface_hub.file_download:Xet Storage is enabled for this repo, but the 'hf_xet' package is not installed. Falling back to regular HTTP download. For better performance, install the package with: `pip install huggingface_hub[hf_xet]` or `pip install hf_xet`\n"
     ]
    },
    {
     "data": {
      "application/vnd.jupyter.widget-view+json": {
       "model_id": "8780619159ca47b9a6c2d61a13fd4706",
       "version_major": 2,
       "version_minor": 0
      },
      "text/plain": [
       "pytorch_model.bin:   0%|          | 0.00/874M [00:00<?, ?B/s]"
      ]
     },
     "metadata": {},
     "output_type": "display_data"
    },
    {
     "name": "stderr",
     "output_type": "stream",
     "text": [
      "Xet Storage is enabled for this repo, but the 'hf_xet' package is not installed. Falling back to regular HTTP download. For better performance, install the package with: `pip install huggingface_hub[hf_xet]` or `pip install hf_xet`\n",
      "WARNING:huggingface_hub.file_download:Xet Storage is enabled for this repo, but the 'hf_xet' package is not installed. Falling back to regular HTTP download. For better performance, install the package with: `pip install huggingface_hub[hf_xet]` or `pip install hf_xet`\n"
     ]
    },
    {
     "data": {
      "application/vnd.jupyter.widget-view+json": {
       "model_id": "a93545900816420a9b350f64aa774c7e",
       "version_major": 2,
       "version_minor": 0
      },
      "text/plain": [
       "model.safetensors:   0%|          | 0.00/874M [00:00<?, ?B/s]"
      ]
     },
     "metadata": {},
     "output_type": "display_data"
    },
    {
     "name": "stderr",
     "output_type": "stream",
     "text": [
      "Some weights of DebertaV2ForSequenceClassification were not initialized from the model checkpoint at microsoft/deberta-v3-large and are newly initialized: ['classifier.bias', 'classifier.weight', 'pooler.dense.bias', 'pooler.dense.weight']\n",
      "You should probably TRAIN this model on a down-stream task to be able to use it for predictions and inference.\n"
     ]
    }
   ],
   "source": [
    "model = AutoModelForSequenceClassification.from_pretrained(\n",
    "    MODEL_NAME,\n",
    "    num_labels=3,\n",
    "    id2label=ID2LABEL,\n",
    "    label2id=LABEL_MAP\n",
    ")"
   ]
  },
  {
   "cell_type": "markdown",
   "metadata": {
    "id": "JflxSXk0n7xh"
   },
   "source": [
    "*   Set Training Arguments"
   ]
  },
  {
   "cell_type": "code",
   "execution_count": 17,
   "metadata": {
    "id": "hqruXXxan8tJ"
   },
   "outputs": [],
   "source": [
    "training_args = TrainingArguments(\n",
    "    output_dir=\"./deberta-v3-large_business_news_sentiment_classifier-checkpoints\",\n",
    "    save_strategy=\"steps\",\n",
    "    save_steps=1000,\n",
    "    save_total_limit=20,\n",
    "\n",
    "    eval_strategy=\"steps\",\n",
    "    do_eval=True,\n",
    "    eval_steps=1000,\n",
    "    load_best_model_at_end=True,\n",
    "    metric_for_best_model=\"f1\",\n",
    "    greater_is_better=True,\n",
    "\n",
    "    learning_rate=6e-6,\n",
    "    weight_decay=0.01,\n",
    "    warmup_steps=300,\n",
    "    lr_scheduler_type=\"linear\",\n",
    "    optim=\"adamw_torch_fused\",\n",
    "\n",
    "    per_device_train_batch_size=8,\n",
    "    per_device_eval_batch_size=8,\n",
    "    num_train_epochs=3,\n",
    "\n",
    "    fp16=True,\n",
    "    bf16=False,\n",
    "    max_grad_norm=1.0,\n",
    "\n",
    "    logging_steps=1000,\n",
    "    report_to=\"wandb\",\n",
    "\n",
    "    seed=SEED,\n",
    "    dataloader_num_workers=8\n",
    ")"
   ]
  },
  {
   "cell_type": "markdown",
   "metadata": {
    "id": "_Nq3FDiEY5YD"
   },
   "source": [
    "# Metrics & Trainer"
   ]
  },
  {
   "cell_type": "markdown",
   "metadata": {
    "id": "UpKtyXiTiVqM"
   },
   "source": [
    "*   Define Metric Functions"
   ]
  },
  {
   "cell_type": "code",
   "execution_count": 18,
   "metadata": {
    "colab": {
     "base_uri": "https://localhost:8080/",
     "height": 81,
     "referenced_widgets": [
      "bba066060728454a998017c812e569b2",
      "05621a871ea14faa84922dfe26b4ff51",
      "046e88cdd99c4115a4eebce3e1e3a34f",
      "5326e1efe950463ea22a4dbd620656d2",
      "3de2ec26016346e888af083234a215b0",
      "77f4d6d58e214483bdb180770b297565",
      "caa21a065dc341d6bfaac804fceed892",
      "12ce730986fd48dd8b8f3749d10d5584",
      "1070f0e4f56b490eb0468e61498fd564",
      "b2a1e7592366490094b02507329e58c6",
      "522ff372a060475dadc2e208851bc418",
      "5b5d7388e7654062b16836e48670eac6",
      "d8b14ab7779b44e894dbd318de293fb5",
      "51e66683ada040efb9b64856a059d4bd",
      "598fb1b3958b43efb9ad9fb33839a1c8",
      "fd9b3674e9d14e42a0f937f4eb36620a",
      "1ed608fd889f4a329746d15930042a47",
      "82a39343862b4686959ddb9239aa32f0",
      "c25c2c57864b4dc7b6d40196f61f8fb3",
      "263ae7183e1941c5b2616ae2ce77a2b1",
      "978b8b47c7af49a8b8a91c7b4d86467f",
      "b682120fb6c2478e9eadf3fba315d295"
     ]
    },
    "id": "Ifd0niIdoHt4",
    "outputId": "21663122-2b90-40b9-c8f0-d43ce2cdac4f"
   },
   "outputs": [
    {
     "data": {
      "application/vnd.jupyter.widget-view+json": {
       "model_id": "bba066060728454a998017c812e569b2",
       "version_major": 2,
       "version_minor": 0
      },
      "text/plain": [
       "Downloading builder script:   0%|          | 0.00/4.20k [00:00<?, ?B/s]"
      ]
     },
     "metadata": {},
     "output_type": "display_data"
    },
    {
     "data": {
      "application/vnd.jupyter.widget-view+json": {
       "model_id": "5b5d7388e7654062b16836e48670eac6",
       "version_major": 2,
       "version_minor": 0
      },
      "text/plain": [
       "Downloading builder script:   0%|          | 0.00/6.79k [00:00<?, ?B/s]"
      ]
     },
     "metadata": {},
     "output_type": "display_data"
    }
   ],
   "source": [
    "accuracy = evaluate.load(\"accuracy\")\n",
    "f1 = evaluate.load(\"f1\")\n",
    "\n",
    "def compute_metrics(eval_pred):\n",
    "    preds, labels = eval_pred\n",
    "    preds = np.argmax(preds, axis=1)\n",
    "    return {\n",
    "        \"accuracy\": accuracy.compute(predictions=preds, references=labels)[\"accuracy\"],\n",
    "        \"f1\": f1.compute(predictions=preds, references=labels, average=\"macro\")[\"f1\"]\n",
    "    }"
   ]
  },
  {
   "cell_type": "markdown",
   "metadata": {
    "id": "gLk2k-CvilMP"
   },
   "source": [
    "*   Initialize Trainer"
   ]
  },
  {
   "cell_type": "code",
   "execution_count": 19,
   "metadata": {
    "id": "l6mENg4ToKcx"
   },
   "outputs": [],
   "source": [
    "data_collator = DataCollatorWithPadding(tokenizer)\n",
    "\n",
    "trainer = Trainer(\n",
    "    model=model,\n",
    "    args=training_args,\n",
    "    train_dataset=tokenized_ds[\"train\"],\n",
    "    eval_dataset=tokenized_ds[\"validation\"],\n",
    "    data_collator=data_collator,\n",
    "    compute_metrics=compute_metrics,\n",
    "    callbacks=[EarlyStoppingCallback(early_stopping_patience=15)],\n",
    ")"
   ]
  },
  {
   "cell_type": "markdown",
   "metadata": {
    "id": "-G44Sw6PZGmN"
   },
   "source": [
    "# Train & Evaluate"
   ]
  },
  {
   "cell_type": "code",
   "execution_count": 20,
   "metadata": {
    "colab": {
     "base_uri": "https://localhost:8080/",
     "height": 1000
    },
    "id": "5EbrUCWjoNlY",
    "outputId": "1b7ebafc-c4d5-4423-86cc-25daffd59ab3"
   },
   "outputs": [
    {
     "name": "stderr",
     "output_type": "stream",
     "text": [
      "\u001b[34m\u001b[1mwandb\u001b[0m: \u001b[33mWARNING\u001b[0m The `run_name` is currently set to the same value as `TrainingArguments.output_dir`. If this was not intended, please specify a different run name by setting the `TrainingArguments.run_name` parameter.\n"
     ]
    },
    {
     "data": {
      "text/html": [
       "\n",
       "    <div>\n",
       "      \n",
       "      <progress value='41613' max='41613' style='width:300px; height:20px; vertical-align: middle;'></progress>\n",
       "      [41613/41613 3:44:02, Epoch 3/3]\n",
       "    </div>\n",
       "    <table border=\"1\" class=\"dataframe\">\n",
       "  <thead>\n",
       " <tr style=\"text-align: left;\">\n",
       "      <th>Step</th>\n",
       "      <th>Training Loss</th>\n",
       "      <th>Validation Loss</th>\n",
       "      <th>Accuracy</th>\n",
       "      <th>F1</th>\n",
       "    </tr>\n",
       "  </thead>\n",
       "  <tbody>\n",
       "    <tr>\n",
       "      <td>1000</td>\n",
       "      <td>0.466400</td>\n",
       "      <td>0.216541</td>\n",
       "      <td>0.959367</td>\n",
       "      <td>0.959372</td>\n",
       "    </tr>\n",
       "    <tr>\n",
       "      <td>2000</td>\n",
       "      <td>0.180100</td>\n",
       "      <td>0.173803</td>\n",
       "      <td>0.970560</td>\n",
       "      <td>0.970571</td>\n",
       "    </tr>\n",
       "    <tr>\n",
       "      <td>3000</td>\n",
       "      <td>0.123400</td>\n",
       "      <td>0.153648</td>\n",
       "      <td>0.974858</td>\n",
       "      <td>0.974901</td>\n",
       "    </tr>\n",
       "    <tr>\n",
       "      <td>4000</td>\n",
       "      <td>0.125000</td>\n",
       "      <td>0.145937</td>\n",
       "      <td>0.976075</td>\n",
       "      <td>0.976084</td>\n",
       "    </tr>\n",
       "    <tr>\n",
       "      <td>5000</td>\n",
       "      <td>0.125400</td>\n",
       "      <td>0.092853</td>\n",
       "      <td>0.980454</td>\n",
       "      <td>0.980456</td>\n",
       "    </tr>\n",
       "    <tr>\n",
       "      <td>6000</td>\n",
       "      <td>0.113500</td>\n",
       "      <td>0.091413</td>\n",
       "      <td>0.982806</td>\n",
       "      <td>0.982811</td>\n",
       "    </tr>\n",
       "    <tr>\n",
       "      <td>7000</td>\n",
       "      <td>0.107100</td>\n",
       "      <td>0.068909</td>\n",
       "      <td>0.984915</td>\n",
       "      <td>0.984917</td>\n",
       "    </tr>\n",
       "    <tr>\n",
       "      <td>8000</td>\n",
       "      <td>0.097700</td>\n",
       "      <td>0.109545</td>\n",
       "      <td>0.981346</td>\n",
       "      <td>0.981346</td>\n",
       "    </tr>\n",
       "    <tr>\n",
       "      <td>9000</td>\n",
       "      <td>0.092100</td>\n",
       "      <td>0.090660</td>\n",
       "      <td>0.983049</td>\n",
       "      <td>0.983034</td>\n",
       "    </tr>\n",
       "    <tr>\n",
       "      <td>10000</td>\n",
       "      <td>0.093500</td>\n",
       "      <td>0.072686</td>\n",
       "      <td>0.985888</td>\n",
       "      <td>0.985895</td>\n",
       "    </tr>\n",
       "    <tr>\n",
       "      <td>11000</td>\n",
       "      <td>0.093800</td>\n",
       "      <td>0.093241</td>\n",
       "      <td>0.984753</td>\n",
       "      <td>0.984753</td>\n",
       "    </tr>\n",
       "    <tr>\n",
       "      <td>12000</td>\n",
       "      <td>0.085000</td>\n",
       "      <td>0.075844</td>\n",
       "      <td>0.986294</td>\n",
       "      <td>0.986293</td>\n",
       "    </tr>\n",
       "    <tr>\n",
       "      <td>13000</td>\n",
       "      <td>0.081300</td>\n",
       "      <td>0.079386</td>\n",
       "      <td>0.985888</td>\n",
       "      <td>0.985890</td>\n",
       "    </tr>\n",
       "    <tr>\n",
       "      <td>14000</td>\n",
       "      <td>0.076700</td>\n",
       "      <td>0.075532</td>\n",
       "      <td>0.986780</td>\n",
       "      <td>0.986783</td>\n",
       "    </tr>\n",
       "    <tr>\n",
       "      <td>15000</td>\n",
       "      <td>0.039800</td>\n",
       "      <td>0.122476</td>\n",
       "      <td>0.981671</td>\n",
       "      <td>0.981677</td>\n",
       "    </tr>\n",
       "    <tr>\n",
       "      <td>16000</td>\n",
       "      <td>0.041900</td>\n",
       "      <td>0.087018</td>\n",
       "      <td>0.986942</td>\n",
       "      <td>0.986943</td>\n",
       "    </tr>\n",
       "    <tr>\n",
       "      <td>17000</td>\n",
       "      <td>0.036300</td>\n",
       "      <td>0.076122</td>\n",
       "      <td>0.986861</td>\n",
       "      <td>0.986865</td>\n",
       "    </tr>\n",
       "    <tr>\n",
       "      <td>18000</td>\n",
       "      <td>0.043700</td>\n",
       "      <td>0.078747</td>\n",
       "      <td>0.987267</td>\n",
       "      <td>0.987265</td>\n",
       "    </tr>\n",
       "    <tr>\n",
       "      <td>19000</td>\n",
       "      <td>0.037000</td>\n",
       "      <td>0.099191</td>\n",
       "      <td>0.986375</td>\n",
       "      <td>0.986377</td>\n",
       "    </tr>\n",
       "    <tr>\n",
       "      <td>20000</td>\n",
       "      <td>0.042300</td>\n",
       "      <td>0.072377</td>\n",
       "      <td>0.988078</td>\n",
       "      <td>0.988079</td>\n",
       "    </tr>\n",
       "    <tr>\n",
       "      <td>21000</td>\n",
       "      <td>0.039200</td>\n",
       "      <td>0.080751</td>\n",
       "      <td>0.987753</td>\n",
       "      <td>0.987756</td>\n",
       "    </tr>\n",
       "    <tr>\n",
       "      <td>22000</td>\n",
       "      <td>0.033400</td>\n",
       "      <td>0.083444</td>\n",
       "      <td>0.988159</td>\n",
       "      <td>0.988157</td>\n",
       "    </tr>\n",
       "    <tr>\n",
       "      <td>23000</td>\n",
       "      <td>0.036200</td>\n",
       "      <td>0.083976</td>\n",
       "      <td>0.986699</td>\n",
       "      <td>0.986701</td>\n",
       "    </tr>\n",
       "    <tr>\n",
       "      <td>24000</td>\n",
       "      <td>0.034700</td>\n",
       "      <td>0.070460</td>\n",
       "      <td>0.989051</td>\n",
       "      <td>0.989049</td>\n",
       "    </tr>\n",
       "    <tr>\n",
       "      <td>25000</td>\n",
       "      <td>0.036800</td>\n",
       "      <td>0.074901</td>\n",
       "      <td>0.988646</td>\n",
       "      <td>0.988645</td>\n",
       "    </tr>\n",
       "    <tr>\n",
       "      <td>26000</td>\n",
       "      <td>0.026000</td>\n",
       "      <td>0.066963</td>\n",
       "      <td>0.989862</td>\n",
       "      <td>0.989863</td>\n",
       "    </tr>\n",
       "    <tr>\n",
       "      <td>27000</td>\n",
       "      <td>0.027200</td>\n",
       "      <td>0.071852</td>\n",
       "      <td>0.989213</td>\n",
       "      <td>0.989216</td>\n",
       "    </tr>\n",
       "    <tr>\n",
       "      <td>28000</td>\n",
       "      <td>0.026700</td>\n",
       "      <td>0.068218</td>\n",
       "      <td>0.989862</td>\n",
       "      <td>0.989862</td>\n",
       "    </tr>\n",
       "    <tr>\n",
       "      <td>29000</td>\n",
       "      <td>0.014100</td>\n",
       "      <td>0.080236</td>\n",
       "      <td>0.989051</td>\n",
       "      <td>0.989052</td>\n",
       "    </tr>\n",
       "    <tr>\n",
       "      <td>30000</td>\n",
       "      <td>0.010700</td>\n",
       "      <td>0.081361</td>\n",
       "      <td>0.989862</td>\n",
       "      <td>0.989862</td>\n",
       "    </tr>\n",
       "    <tr>\n",
       "      <td>31000</td>\n",
       "      <td>0.013400</td>\n",
       "      <td>0.082432</td>\n",
       "      <td>0.989943</td>\n",
       "      <td>0.989942</td>\n",
       "    </tr>\n",
       "    <tr>\n",
       "      <td>32000</td>\n",
       "      <td>0.020100</td>\n",
       "      <td>0.082201</td>\n",
       "      <td>0.989538</td>\n",
       "      <td>0.989538</td>\n",
       "    </tr>\n",
       "    <tr>\n",
       "      <td>33000</td>\n",
       "      <td>0.011700</td>\n",
       "      <td>0.085220</td>\n",
       "      <td>0.988970</td>\n",
       "      <td>0.988972</td>\n",
       "    </tr>\n",
       "    <tr>\n",
       "      <td>34000</td>\n",
       "      <td>0.009100</td>\n",
       "      <td>0.085460</td>\n",
       "      <td>0.990268</td>\n",
       "      <td>0.990268</td>\n",
       "    </tr>\n",
       "    <tr>\n",
       "      <td>35000</td>\n",
       "      <td>0.013200</td>\n",
       "      <td>0.078552</td>\n",
       "      <td>0.989943</td>\n",
       "      <td>0.989942</td>\n",
       "    </tr>\n",
       "    <tr>\n",
       "      <td>36000</td>\n",
       "      <td>0.008100</td>\n",
       "      <td>0.077864</td>\n",
       "      <td>0.990268</td>\n",
       "      <td>0.990268</td>\n",
       "    </tr>\n",
       "    <tr>\n",
       "      <td>37000</td>\n",
       "      <td>0.007700</td>\n",
       "      <td>0.079729</td>\n",
       "      <td>0.990268</td>\n",
       "      <td>0.990267</td>\n",
       "    </tr>\n",
       "    <tr>\n",
       "      <td>38000</td>\n",
       "      <td>0.011500</td>\n",
       "      <td>0.076676</td>\n",
       "      <td>0.990430</td>\n",
       "      <td>0.990432</td>\n",
       "    </tr>\n",
       "    <tr>\n",
       "      <td>39000</td>\n",
       "      <td>0.009900</td>\n",
       "      <td>0.079928</td>\n",
       "      <td>0.989943</td>\n",
       "      <td>0.989945</td>\n",
       "    </tr>\n",
       "    <tr>\n",
       "      <td>40000</td>\n",
       "      <td>0.014000</td>\n",
       "      <td>0.081378</td>\n",
       "      <td>0.990024</td>\n",
       "      <td>0.990025</td>\n",
       "    </tr>\n",
       "    <tr>\n",
       "      <td>41000</td>\n",
       "      <td>0.016000</td>\n",
       "      <td>0.076120</td>\n",
       "      <td>0.990430</td>\n",
       "      <td>0.990431</td>\n",
       "    </tr>\n",
       "  </tbody>\n",
       "</table><p>"
      ],
      "text/plain": [
       "<IPython.core.display.HTML object>"
      ]
     },
     "metadata": {},
     "output_type": "display_data"
    },
    {
     "data": {
      "text/plain": [
       "TrainOutput(global_step=41613, training_loss=0.060704488479030864, metrics={'train_runtime': 13444.5878, 'train_samples_per_second': 24.761, 'train_steps_per_second': 3.095, 'total_flos': 2.1259149660644616e+16, 'train_loss': 0.060704488479030864, 'epoch': 3.0})"
      ]
     },
     "execution_count": 20,
     "metadata": {},
     "output_type": "execute_result"
    }
   ],
   "source": [
    "trainer.train()"
   ]
  },
  {
   "cell_type": "markdown",
   "metadata": {
    "id": "ksNl8r22pX9y"
   },
   "source": [
    "*   Evaluate by Validation"
   ]
  },
  {
   "cell_type": "code",
   "execution_count": 21,
   "metadata": {
    "colab": {
     "base_uri": "https://localhost:8080/",
     "height": 72
    },
    "id": "14hn5ThxoQyp",
    "outputId": "7a214866-93cc-406d-da8f-ee847847982c"
   },
   "outputs": [
    {
     "data": {
      "text/html": [
       "\n",
       "    <div>\n",
       "      \n",
       "      <progress value='1542' max='1542' style='width:300px; height:20px; vertical-align: middle;'></progress>\n",
       "      [1542/1542 01:30]\n",
       "    </div>\n",
       "    "
      ],
      "text/plain": [
       "<IPython.core.display.HTML object>"
      ]
     },
     "metadata": {},
     "output_type": "display_data"
    },
    {
     "name": "stdout",
     "output_type": "stream",
     "text": [
      "Validation Accuracy: 0.9904\n",
      "Validation F1: 0.9904\n"
     ]
    }
   ],
   "source": [
    "val_results = trainer.evaluate(tokenized_ds[\"validation\"])\n",
    "print(f\"Validation Accuracy: {val_results['eval_accuracy']:.4f}\")\n",
    "print(f\"Validation F1: {val_results['eval_f1']:.4f}\")"
   ]
  },
  {
   "cell_type": "markdown",
   "metadata": {
    "id": "ePwH96CVpgqi"
   },
   "source": [
    "*   Evaluate by Test"
   ]
  },
  {
   "cell_type": "code",
   "execution_count": 22,
   "metadata": {
    "colab": {
     "base_uri": "https://localhost:8080/",
     "height": 72
    },
    "id": "I0ZmOyXroTZQ",
    "outputId": "50b4d80c-3fd0-4f28-d76f-bcdd94f5ddc9"
   },
   "outputs": [
    {
     "data": {
      "text/html": [
       "\n",
       "    <div>\n",
       "      \n",
       "      <progress value='3255' max='1542' style='width:300px; height:20px; vertical-align: middle;'></progress>\n",
       "      [1542/1542 03:12]\n",
       "    </div>\n",
       "    "
      ],
      "text/plain": [
       "<IPython.core.display.HTML object>"
      ]
     },
     "metadata": {},
     "output_type": "display_data"
    },
    {
     "name": "stdout",
     "output_type": "stream",
     "text": [
      "Test Accuracy: 0.9896\n",
      "Test F1: 0.9896\n"
     ]
    }
   ],
   "source": [
    "test_results = trainer.evaluate(tokenized_ds[\"test\"])\n",
    "print(f\"Test Accuracy: {test_results['eval_accuracy']:.4f}\")\n",
    "print(f\"Test F1: {test_results['eval_f1']:.4f}\")"
   ]
  },
  {
   "cell_type": "markdown",
   "metadata": {
    "id": "6J-QQOSejn0W"
   },
   "source": [
    "*   Save Model"
   ]
  },
  {
   "cell_type": "code",
   "execution_count": 23,
   "metadata": {
    "colab": {
     "base_uri": "https://localhost:8080/"
    },
    "id": "nof-GqmWoVOR",
    "outputId": "7150395a-127a-4e1b-81dc-a5156fb119de"
   },
   "outputs": [
    {
     "data": {
      "text/plain": [
       "('deberta-v3-large-business-news-sentiment-classifier/tokenizer_config.json',\n",
       " 'deberta-v3-large-business-news-sentiment-classifier/special_tokens_map.json',\n",
       " 'deberta-v3-large-business-news-sentiment-classifier/spm.model',\n",
       " 'deberta-v3-large-business-news-sentiment-classifier/added_tokens.json',\n",
       " 'deberta-v3-large-business-news-sentiment-classifier/tokenizer.json')"
      ]
     },
     "execution_count": 23,
     "metadata": {},
     "output_type": "execute_result"
    }
   ],
   "source": [
    "trainer.save_model(\"deberta-v3-large-business-news-sentiment-classifier\")\n",
    "tokenizer.save_pretrained(\"deberta-v3-large-business-news-sentiment-classifier\")"
   ]
  },
  {
   "cell_type": "markdown",
   "metadata": {
    "id": "yVqfrV71pQbS"
   },
   "source": [
    "*   Finish Wandb"
   ]
  },
  {
   "cell_type": "code",
   "execution_count": 24,
   "metadata": {
    "colab": {
     "base_uri": "https://localhost:8080/",
     "height": 843
    },
    "id": "AMCqtJJ9oXFZ",
    "outputId": "16fca2d9-8484-4d2f-c95e-e508e2b2480e"
   },
   "outputs": [
    {
     "data": {
      "text/html": [],
      "text/plain": [
       "<IPython.core.display.HTML object>"
      ]
     },
     "metadata": {},
     "output_type": "display_data"
    },
    {
     "data": {
      "text/html": [
       "<br>    <style><br>        .wandb-row {<br>            display: flex;<br>            flex-direction: row;<br>            flex-wrap: wrap;<br>            justify-content: flex-start;<br>            width: 100%;<br>        }<br>        .wandb-col {<br>            display: flex;<br>            flex-direction: column;<br>            flex-basis: 100%;<br>            flex: 1;<br>            padding: 10px;<br>        }<br>    </style><br><div class=\"wandb-row\"><div class=\"wandb-col\"><h3>Run history:</h3><br/><table class=\"wandb\"><tr><td>eval/accuracy</td><td>▁▄▄▅▆▆▇▆▆▇▇▇▇▆▇▇▇▇▇▇▇▇██████████████████</td></tr><tr><td>eval/f1</td><td>▁▄▄▅▆▆▇▆▆▇▇▇▇▆▇▇▇▇▇▇▇▇██████████████████</td></tr><tr><td>eval/loss</td><td>█▆▅▅▂▂▁▃▂▁▂▁▂▄▂▁▂▃▁▂▂▂▁▁▁▁▂▂▂▂▂▂▂▂▂▁▂▂▁▂</td></tr><tr><td>eval/runtime</td><td>▁▁▁▂▁▂▁▁▂▂▁▁▁▂▂▂▂▁▁▂▂▂▂▁▂▁▂▂▂▂▁▁▂▁▂▂▂▂▂█</td></tr><tr><td>eval/samples_per_second</td><td>▆█▇▆▇▅█▇▅▅▇▇▆▅▅▄▅▆▆▅▅▄▅▆▅▆▆▆▅▄▆▆▄▇▆▅▅▃▃▁</td></tr><tr><td>eval/steps_per_second</td><td>▆█▇▆▇▅█▇▅▅▇▇▆▅▆▄▅▆▆▅▅▄▅▆▅▆▆▆▅▄▆▆▄▇▆▅▅▃▃▁</td></tr><tr><td>train/epoch</td><td>▁▁▁▂▂▂▂▂▂▂▃▃▃▄▄▄▄▅▅▅▆▆▆▆▆▇▇▇▇▇▇▇▇▇██████</td></tr><tr><td>train/global_step</td><td>▁▁▁▁▁▂▂▂▂▃▃▃▃▄▄▄▄▄▄▅▅▅▅▅▅▆▆▆▆▇▇▇▇▇▇█████</td></tr><tr><td>train/grad_norm</td><td>▁▁▃▁▁▄▁▁▂▁▁▁▁▁▁▂▁▁▁▁█▁▁▁▁▁▁▁▁▁▁▁▁▁▁▁▁▁▁▁</td></tr><tr><td>train/learning_rate</td><td>███▇▇▇▇▇▇▆▆▆▆▆▆▅▅▅▅▅▄▄▄▄▄▄▃▃▃▃▃▃▂▂▂▂▂▂▁▁</td></tr><tr><td>train/loss</td><td>█▄▃▃▃▃▃▂▂▂▂▂▂▂▁▂▁▂▁▂▁▁▁▁▁▁▁▁▁▁▁▁▁▁▁▁▁▁▁▁</td></tr></table><br/></div><div class=\"wandb-col\"><h3>Run summary:</h3><br/><table class=\"wandb\"><tr><td>eval/accuracy</td><td>0.98956</td></tr><tr><td>eval/f1</td><td>0.98957</td></tr><tr><td>eval/loss</td><td>0.08274</td></tr><tr><td>eval/runtime</td><td>102.2436</td></tr><tr><td>eval/samples_per_second</td><td>133.994</td></tr><tr><td>eval/steps_per_second</td><td>16.754</td></tr><tr><td>total_flos</td><td>2.1259149660644616e+16</td></tr><tr><td>train/epoch</td><td>3</td></tr><tr><td>train/global_step</td><td>41613</td></tr><tr><td>train/grad_norm</td><td>0.00032</td></tr><tr><td>train/learning_rate</td><td>0.0</td></tr><tr><td>train/loss</td><td>0.016</td></tr><tr><td>train_loss</td><td>0.0607</td></tr><tr><td>train_runtime</td><td>13444.5878</td></tr><tr><td>train_samples_per_second</td><td>24.761</td></tr><tr><td>train_steps_per_second</td><td>3.095</td></tr></table><br/></div></div>"
      ],
      "text/plain": [
       "<IPython.core.display.HTML object>"
      ]
     },
     "metadata": {},
     "output_type": "display_data"
    },
    {
     "data": {
      "text/html": [
       " View run <strong style=\"color:#cdcd00\">fancy-vortex-1</strong> at: <a href='https://wandb.ai/logical-qubit/deberta-v3-large_business_news_sentiment_classifier/runs/3x7lh8ex' target=\"_blank\">https://wandb.ai/logical-qubit/deberta-v3-large_business_news_sentiment_classifier/runs/3x7lh8ex</a><br> View project at: <a href='https://wandb.ai/logical-qubit/deberta-v3-large_business_news_sentiment_classifier' target=\"_blank\">https://wandb.ai/logical-qubit/deberta-v3-large_business_news_sentiment_classifier</a><br>Synced 5 W&B file(s), 0 media file(s), 0 artifact file(s) and 0 other file(s)"
      ],
      "text/plain": [
       "<IPython.core.display.HTML object>"
      ]
     },
     "metadata": {},
     "output_type": "display_data"
    },
    {
     "data": {
      "text/html": [
       "Find logs at: <code>./wandb/run-20250510_071911-3x7lh8ex/logs</code>"
      ],
      "text/plain": [
       "<IPython.core.display.HTML object>"
      ]
     },
     "metadata": {},
     "output_type": "display_data"
    }
   ],
   "source": [
    "wandb.finish()"
   ]
  }
 ],
 "metadata": {
  "accelerator": "GPU",
  "colab": {
   "gpuType": "A100",
   "machine_shape": "hm",
   "provenance": []
  },
  "kernelspec": {
   "display_name": "Python 3",
   "name": "python3"
  },
  "language_info": {
   "name": "python"
  }
 },
 "nbformat": 4,
 "nbformat_minor": 0
}
